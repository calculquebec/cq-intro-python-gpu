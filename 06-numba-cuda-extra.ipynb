{
 "cells": [
  {
   "cell_type": "markdown",
   "id": "b7ef26ea",
   "metadata": {},
   "source": [
    "# Introduction to GPU Programming with Python\n",
    "## Questions and more Exercises"
   ]
  },
  {
   "cell_type": "markdown",
   "id": "0d65ee18-7379-4571-afba-9336cf42e42e",
   "metadata": {},
   "source": [
    "### Polynomial evaluation "
   ]
  },
  {
   "cell_type": "code",
   "execution_count": null,
   "id": "e01aa0da-6909-42e9-923b-6cd57be328eb",
   "metadata": {},
   "outputs": [],
   "source": [
    "import numpy as np\n",
    "from numba import cuda"
   ]
  },
  {
   "cell_type": "code",
   "execution_count": null,
   "id": "3adb9a6d-86f8-4e8a-9778-fc47b18e2d02",
   "metadata": {},
   "outputs": [],
   "source": [
    "#Part 3: Modify polynomial function to make it work with numba.cuda\n",
    "def host_polyval(result, array, coeffs):\n",
    "    for i in range(len(array)):\n",
    "        val = coeffs[0]\n",
    "        for coeff in coeffs[1:]:\n",
    "            val = val * array[i] + coeff\n",
    "        result[i] = val"
   ]
  },
  {
   "cell_type": "code",
   "execution_count": null,
   "id": "024531c3-16d1-4351-a55f-d62789ebabb2",
   "metadata": {},
   "outputs": [],
   "source": [
    "#Part 1: Allocate integer array (int32), size of 2048 * 1024. Also make an empty array for result, same size\n",
    "array = \n",
    "coeffs = np.float32(range(1, 10))\n",
    "result = "
   ]
  },
  {
   "cell_type": "code",
   "execution_count": null,
   "id": "eeaaa7ed-9091-47b3-88fb-a19d9bc0bcc7",
   "metadata": {},
   "outputs": [],
   "source": [
    "#Part 2: Prepare grid\n",
    "blocks=\n",
    "threads="
   ]
  },
  {
   "cell_type": "code",
   "execution_count": null,
   "id": "b56dfea9-979e-404c-a9ff-098a324ef3d0",
   "metadata": {},
   "outputs": [],
   "source": [
    "#Part 4: Call the kernel and measure execution time"
   ]
  },
  {
   "cell_type": "code",
   "execution_count": null,
   "id": "57a65428-6bb3-48ab-b31e-9316e6fd213a",
   "metadata": {},
   "outputs": [],
   "source": [
    "#Part 5: Call the built-in NumPy polynomial function  np.polyval(coeffs, array) and compare results"
   ]
  },
  {
   "cell_type": "code",
   "execution_count": null,
   "id": "4974030b-cd6f-4693-84e0-a166ac83e1c2",
   "metadata": {},
   "outputs": [],
   "source": [
    "#Part 6: Go back to the kernel (Part 3) and modify it to make it work on CPU with @jit"
   ]
  },
  {
   "cell_type": "markdown",
   "id": "5e2445f8",
   "metadata": {},
   "source": [
    "### Mandelbrot Example\n",
    "![](images/322px-Mandel_zoom_00_mandelbrot_set.jpeg)"
   ]
  },
  {
   "cell_type": "markdown",
   "id": "fbaa2345",
   "metadata": {},
   "source": [
    "The Mandelbrot set can be explained with the equation zn+1 = zn2 + c.\n",
    "Images are created by applying the equation to each pixel in an iterative process, using the pixel's position in the image for the number 'c'. \n",
    "\n",
    "'c' is obtained by mapping the position of the pixel in the image relative to the position of the point on the complex plane. \n",
    "\n",
    "In our exercise the mandel function is supposed to perform the Mandelbrot set calculation for a given (x,y) position on the imaginary plane. It returns the number of iterations before the computation \"escapes\"."
   ]
  },
  {
   "cell_type": "code",
   "execution_count": null,
   "id": "9d736199",
   "metadata": {},
   "outputs": [],
   "source": [
    "import numpy as np\n",
    "from matplotlib.pyplot import imshow, show\n",
    "from timeit import default_timer as timer\n",
    "from numba import jit,cuda"
   ]
  },
  {
   "cell_type": "code",
   "execution_count": null,
   "id": "01d67281",
   "metadata": {},
   "outputs": [],
   "source": [
    "def mandel(x, y, max_iters):\n",
    "  \n",
    "  c = complex(x, y)\n",
    "  z = 0.0j\n",
    "  for i in range(max_iters):\n",
    "    z = z*z + c\n",
    "    if (z.real*z.real + z.imag*z.imag) >= 4:\n",
    "      return i\n",
    "\n",
    "  return max_iters"
   ]
  },
  {
   "cell_type": "markdown",
   "id": "30bfd8a8",
   "metadata": {},
   "source": [
    "Then we need to make a function that iterates over all the pixels in the image, computing the complex coordinates from the pixel coordinates, and calls the mandel function at each pixel. The return value of mandel is used to color the pixel."
   ]
  },
  {
   "cell_type": "code",
   "execution_count": null,
   "id": "7c98d672",
   "metadata": {},
   "outputs": [],
   "source": [
    "#Part1 : Make a create_fractal function\n",
    "def create_fractal(min_x, max_x, min_y, max_y, image, iters):\n",
    "    height = image.shape[0]\n",
    "    width = image.shape[1]\n",
    "    \n",
    "    pixel_size_x = ###\n",
    "    pixel_size_y = ###\n",
    "    for x in ### :\n",
    "        real = \n",
    "        for y in ### :\n",
    "            image = \n",
    "            color = \n",
    "            image[] = \n",
    " "
   ]
  },
  {
   "cell_type": "markdown",
   "id": "93b720ad",
   "metadata": {},
   "source": [
    "Next we create a 1024x1024 pixel image as a numpy array of bytes. We then call create_fractal with appropriate coordinates to fit the whole mandelbrot set."
   ]
  },
  {
   "cell_type": "code",
   "execution_count": null,
   "id": "5471ddca",
   "metadata": {},
   "outputs": [],
   "source": [
    "#Part 2: Next we create an empty array, size 1024x1024, type np.uint8. Call create_fractal with appropriate coordinates \n",
    "#to fit the whole mandelbrot set. Then show the image. Measure the execution time.\n",
    "image = ###\n",
    "create_fractal(-2.0, 1.0, -1.0, 1.0, image, 20) \n",
    "imshow(image)\n",
    "show()"
   ]
  },
  {
   "cell_type": "code",
   "execution_count": null,
   "id": "f834a749",
   "metadata": {},
   "outputs": [],
   "source": [
    "#Part 3: Modify both mandel and create_fractal function and optimize/parallelize them with jit decorator \n",
    "#to work on the CPU\n"
   ]
  },
  {
   "cell_type": "code",
   "execution_count": null,
   "id": "95390ede",
   "metadata": {},
   "outputs": [],
   "source": [
    "#Part 4: Run again and measure the execution time\n",
    "image = ###\n",
    "create_fractal(-2.0, 1.0, -1.0, 1.0, image, 20) \n",
    "imshow(image)\n",
    "show()"
   ]
  },
  {
   "cell_type": "code",
   "execution_count": null,
   "id": "8c2b18c9",
   "metadata": {},
   "outputs": [],
   "source": [
    "#Part 5: Write the kernel function mandel_kernel  with numba.cuda. Also modify mandel to mandel_gpu with cuda.jit\n",
    "mandel_gpu = \n",
    "def mandel_kernel(min_x, max_x, min_y, max_y, image, iters):\n",
    "    height = image.shape[0]\n",
    "    width = image.shape[1]\n",
    "    #####"
   ]
  },
  {
   "cell_type": "code",
   "execution_count": null,
   "id": "9263e903",
   "metadata": {},
   "outputs": [],
   "source": [
    "#Part 6: Initiate image array, create cuda grid\n",
    "image = ###"
   ]
  },
  {
   "cell_type": "code",
   "execution_count": null,
   "id": "6b395abf",
   "metadata": {},
   "outputs": [],
   "source": [
    "#Part 7: Run the kernel. Also measure the execution time."
   ]
  }
 ],
 "metadata": {
  "kernelspec": {
   "display_name": "Python 3 (ipykernel)",
   "language": "python",
   "name": "python3"
  },
  "language_info": {
   "codemirror_mode": {
    "name": "ipython",
    "version": 3
   },
   "file_extension": ".py",
   "mimetype": "text/x-python",
   "name": "python",
   "nbconvert_exporter": "python",
   "pygments_lexer": "ipython3",
   "version": "3.9.6"
  }
 },
 "nbformat": 4,
 "nbformat_minor": 5
}
