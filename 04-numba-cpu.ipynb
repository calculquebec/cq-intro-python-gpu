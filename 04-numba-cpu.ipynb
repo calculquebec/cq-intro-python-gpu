{
 "cells": [
  {
   "cell_type": "markdown",
   "id": "turkish-funds",
   "metadata": {},
   "source": [
    "# Introduction to GPU Programming with Python\n",
    "## Numba: just-in-time library\n",
    "Numba is a library that compiles Python code at runtime to native machine instructions\n",
    "Numba is an on-the-fly compiler of specialized types, functions for CPU or GPU.\n",
    "Important: you don't need to dramatically change you Python code"
   ]
  },
  {
   "cell_type": "markdown",
   "id": "healthy-structure",
   "metadata": {},
   "source": [
    "Numba's central feature is a numba.jit decorator\n",
    "Decorator: modifies functions in a prticular way. You can think of them as functions that take a function as input and produce a function as output:\n",
    "- a function maybe wrapped by one or more decorator expression\n",
    "- decorator expression is evaluated when the function is defined\n",
    "- multiple decorators are applied in nested fashion"
   ]
  },
  {
   "cell_type": "markdown",
   "id": "damaged-attendance",
   "metadata": {},
   "source": [
    "### CPU"
   ]
  },
  {
   "cell_type": "code",
   "execution_count": null,
   "id": "iraqi-traveler",
   "metadata": {
    "tags": []
   },
   "outputs": [],
   "source": [
    "from numba import jit\n",
    "from numpy import arange\n",
    "\n",
    "@jit\n",
    "def sum2d(arr):\n",
    "    M, N = arr.shape\n",
    "    result = 0.0\n",
    "    for i in range(M):\n",
    "        for j in range(N):\n",
    "            result += arr[i,j]\n",
    "    return result\n",
    "\n",
    "a = arange(9).reshape(3,3)\n",
    "result=sum2d(a)\n",
    "print(result)"
   ]
  },
  {
   "cell_type": "markdown",
   "id": "bottom-republican",
   "metadata": {},
   "source": [
    "Will Numba work for any code ? \n",
    "Limitation: you can only use NumPy and standard Python libraries inside the functions"
   ]
  },
  {
   "cell_type": "code",
   "execution_count": null,
   "id": "original-reservation",
   "metadata": {},
   "outputs": [],
   "source": [
    "from numba import jit\n",
    "import pandas as pd\n",
    "x = {'a': [1, 2, 3], 'b': [20, 30, 40]}\n",
    "\n",
    "@jit\n",
    "def use_pandas(a): \n",
    "\tdf = pd.DataFrame.from_dict(a) \n",
    "\tdf += 1 \n",
    "\treturn df.cov()\n",
    "\n",
    "print(use_pandas(x))"
   ]
  },
  {
   "cell_type": "markdown",
   "id": "adjusted-directive",
   "metadata": {},
   "source": [
    "Numba doesn’t know about pd.DataFrame\n",
    "Result:  Numba would simply run this code via the interpreter but with the added cost of the Numba internal overheads!"
   ]
  },
  {
   "cell_type": "markdown",
   "id": "alternative-average",
   "metadata": {},
   "source": [
    "Numba does a good job optimizing loops:"
   ]
  },
  {
   "cell_type": "code",
   "execution_count": null,
   "id": "refined-syndicate",
   "metadata": {},
   "outputs": [],
   "source": [
    "import numpy as np\n",
    "from numba import jit\n",
    "\n",
    "@jit\n",
    "def bubblesort(X):\n",
    "    N = len(X)\n",
    "    for end in range(N, 1, -1):\n",
    "        for i in range(end - 1):\n",
    "            cur = X[i]\n",
    "            if cur > X[i + 1]:\n",
    "                tmp = X[i]\n",
    "                X[i] = X[i + 1]\n",
    "                X[i + 1] = tmp"
   ]
  },
  {
   "cell_type": "code",
   "execution_count": null,
   "id": "crucial-percentage",
   "metadata": {},
   "outputs": [],
   "source": [
    "data = np.arange(0, 10, 0.01, dtype='f4')\n",
    "bubblesort(data)"
   ]
  },
  {
   "cell_type": "markdown",
   "id": "available-particular",
   "metadata": {},
   "source": [
    "### Compilation modes\n",
    "Numba has two compilations modes:\n",
    "- nopython mode(default): Numba compiler generates code that does not access the Python C API\n",
    "- object mode : Numba compiler generates code that handles all values as Python objects and uses the Python C API"
   ]
  },
  {
   "cell_type": "markdown",
   "id": "hired-korea",
   "metadata": {},
   "source": [
    "### Automatic parallelization with JIT"
   ]
  },
  {
   "cell_type": "code",
   "execution_count": null,
   "id": "external-government",
   "metadata": {},
   "outputs": [],
   "source": [
    "import numpy as np\n",
    "\n",
    "N = 100000000\n",
    "dim=(10000,10000)\n",
    "x = np.arange(N).reshape(dim)"
   ]
  },
  {
   "cell_type": "code",
   "execution_count": null,
   "id": "awful-accuracy",
   "metadata": {},
   "outputs": [],
   "source": [
    "@jit(nopython=True)\n",
    "def doround(v):\n",
    "    s = 0\n",
    "    for i in range(v.shape[0]):  \n",
    "        s += np.round(v[i, i])\n",
    "    return v + s           "
   ]
  },
  {
   "cell_type": "code",
   "execution_count": null,
   "id": "important-attention",
   "metadata": {},
   "outputs": [],
   "source": [
    "#Now lets execute it and measure timing with and without Numba decorator\n",
    "doround(x)"
   ]
  },
  {
   "cell_type": "markdown",
   "id": "cloudy-fence",
   "metadata": {},
   "source": [
    "In order to enable auto-parallelism with Numba, you must specify parallel to the @jit decorator. Numba will try to find the regions it can parallelize."
   ]
  },
  {
   "cell_type": "code",
   "execution_count": null,
   "id": "linear-period",
   "metadata": {},
   "outputs": [],
   "source": [
    "@jit(nopython=True, parallel=True)\n",
    "def doround_par(v):\n",
    "    s = 0\n",
    "    for i in range(1000):  \n",
    "        s += np.round(v[i, i])\n",
    "    return v + s             "
   ]
  },
  {
   "cell_type": "code",
   "execution_count": null,
   "id": "warming-handling",
   "metadata": {},
   "outputs": [],
   "source": [
    "#Again, execute and measure timing with and without parallel option\n",
    "doround_par(x)"
   ]
  },
  {
   "cell_type": "markdown",
   "id": "1e26427e",
   "metadata": {},
   "source": [
    "### Explicit Parallel Loops\n",
    "One can use Numba’s prange instead of range to specify that a loop can be parallelized. The user is required to make sure that the loop does not have cross iteration dependencies except for supported reductions."
   ]
  },
  {
   "cell_type": "code",
   "execution_count": null,
   "id": "6168f7ff",
   "metadata": {},
   "outputs": [],
   "source": [
    "@jit(nopython=True, parallel=True)\n",
    "def doround_par(v):\n",
    "    s = 0\n",
    "    for i in prange(1000):  \n",
    "        s += np.round(v[i, i])\n",
    "    return v + s   "
   ]
  },
  {
   "cell_type": "markdown",
   "id": "aaaaaf5c",
   "metadata": {},
   "source": [
    "### Exercise 0\n",
    "Matrix multiplication using jit decorator "
   ]
  },
  {
   "cell_type": "code",
   "execution_count": null,
   "id": "342c2ea1",
   "metadata": {},
   "outputs": [],
   "source": [
    "# Part 2: Run it as it is, then performa various optimizatons & parallelizations\n",
    "def matmul(A,B,C):\n",
    "    # iterating by row of A\n",
    "    for i in range(len(A)):\n",
    "  \n",
    "        # iterating by coloum by B \n",
    "        for j in range(len(B[0])):\n",
    "  \n",
    "            # iterating by rows of B\n",
    "            for k in range(len(B)):\n",
    "                C[i][j] += A[i][k] * B[k][j]"
   ]
  },
  {
   "cell_type": "code",
   "execution_count": null,
   "id": "f1e04fcd",
   "metadata": {},
   "outputs": [],
   "source": [
    "#Part 1: Create matrices A,B,C as numpy arrays. Fill A and B with random numbers.\n"
   ]
  },
  {
   "cell_type": "code",
   "execution_count": null,
   "id": "c605c174",
   "metadata": {},
   "outputs": [],
   "source": [
    "#Part 3: Execute matmul and measure execution time. Compare execution time of non-opimized\n",
    "# with optimized and parallelized versios"
   ]
  },
  {
   "cell_type": "markdown",
   "id": "ab04b49f",
   "metadata": {},
   "source": [
    "### Diagnostics\n",
    "The parallel option for jit() can produce diagnostic information about the transforms undertaken in automatically parallelizing the decorated code. This information can be accessed in two ways:\n",
    "* by setting the environment variable NUMBA_PARALLEL_DIAGNOSTICS\n",
    "* by calling parallel_diagnostics()"
   ]
  },
  {
   "cell_type": "code",
   "execution_count": null,
   "id": "82e3dd54",
   "metadata": {},
   "outputs": [],
   "source": [
    "matmul.parallel_diagnostics(level=4)"
   ]
  },
  {
   "cell_type": "markdown",
   "id": "ec2cdcb8",
   "metadata": {},
   "source": [
    "* Loop fusion is a technique whereby loops with equivalent bounds may be combined under certain conditions to produce a loop with a larger body (aiming to improve data locality).\n",
    "* Loop serialization occurs when any number of prange driven loops are present inside another prange driven loop.\n",
    "* Loop invariant code motion is an optimization technique that analyses a loop to look for statements that can be moved outside the loop body without changing the result of executing the loop, these statements are then “hoisted” out of the loop to save repeated computation.\n",
    "* Allocation hoisting is a specialized case of loop invariant code motion that is possible due to the design of some common NumPy allocation methods. "
   ]
  },
  {
   "cell_type": "code",
   "execution_count": null,
   "id": "54f28517",
   "metadata": {},
   "outputs": [],
   "source": []
  }
 ],
 "metadata": {
  "kernelspec": {
   "display_name": "Python 3",
   "language": "python",
   "name": "python3"
  },
  "language_info": {
   "codemirror_mode": {
    "name": "ipython",
    "version": 3
   },
   "file_extension": ".py",
   "mimetype": "text/x-python",
   "name": "python",
   "nbconvert_exporter": "python",
   "pygments_lexer": "ipython3",
   "version": "3.8.5"
  }
 },
 "nbformat": 4,
 "nbformat_minor": 5
}
