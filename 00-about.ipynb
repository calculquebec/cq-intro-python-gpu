{
 "cells": [
  {
   "cell_type": "markdown",
   "id": "biblical-independence",
   "metadata": {},
   "source": [
    "# PYT301 - Introduction to GPU Programming with Python\n",
    "## About this workshop\n",
    "\n",
    "Note: the *notebooks* used in this workshop and the corresponding data are [published on GitHub](https://github.com/calculquebec/cq-intro-python-gpu).\n",
    "\n",
    "### Table of contents\n",
    "1. [Intro to GPU computing](01-intro-gpu.ipynb)\n",
    "1. [Numba on CPU: just-in-time compiling](02-numba-cpu.ipynb)\n",
    "1. [Very short intro to CUDA ](03-intro-cuda.ipynb)\n",
    "1. [Numba + CUDA: porting a CPU coda to GPU ](04-numba-cuda.ipynb)\n",
    "1. [Numba + CUDA: shared memory ](05-numba-cuda-advanced.ipynb)\n",
    "1. [Python on GPU: other options ](06-python-gpu-other.ipynb)"
   ]
  },
  {
   "cell_type": "markdown",
   "id": "79ada3d8-f9b2-4387-9869-d0d119fa487c",
   "metadata": {},
   "source": [
    "### Data format\n",
    "We will use matrix multiplication as the main example.\n",
    "The data contains two matrices A and B, their multiplication is stored in matrix C\n",
    "\n",
    "![](images/Matrix_multiplication_diagram_2.svg.png)\n",
    "Below is the formula for matrix multiplication:\n",
    "![](images/matrix_formula.png)"
   ]
  },
  {
   "cell_type": "markdown",
   "id": "rotary-general",
   "metadata": {},
   "source": [
    "### How to Use Jupyter\n",
    "When a cell is in edit mode:\n",
    "\n",
    "  Shortcut  | Description\n",
    "----------- | -----------\n",
    "Shift+Enter | Run the cell, and go to the next\n",
    "Tab         | Indent code or auto-completion\n",
    "Esc         | Go to command mode\n",
    "\n",
    "When a cell is in command mode:\n",
    "\n",
    "  Shortcut   | Description\n",
    "------------ | -----------\n",
    "Shift+Enter  | Run the cell, and go to the next\n",
    "Double-click | Go to edit mode\n",
    "Enter        | Go to edit mode\n",
    "\n",
    "  Shortcut   | Description\n",
    "------------ | -----------\n",
    "A            | Insert a cell above\n",
    "B            | Insert a cell below\n",
    "C            | Copy the current cell\n",
    "V            | Paste the cell below\n",
    "D D          | Delete the current cell\n",
    "M            | Change to Markdown cell\n",
    "Y            | Change to Code cell\n",
    "\n",
    "To reset all cells:\n",
    "* Go to the top menu, and select Kernel -> Restart & Clear Output"
   ]
  }
 ],
 "metadata": {
  "kernelspec": {
   "display_name": "Python 3 (ipykernel)",
   "language": "python",
   "name": "python3"
  },
  "language_info": {
   "codemirror_mode": {
    "name": "ipython",
    "version": 3
   },
   "file_extension": ".py",
   "mimetype": "text/x-python",
   "name": "python",
   "nbconvert_exporter": "python",
   "pygments_lexer": "ipython3",
   "version": "3.9.6"
  }
 },
 "nbformat": 4,
 "nbformat_minor": 5
}
