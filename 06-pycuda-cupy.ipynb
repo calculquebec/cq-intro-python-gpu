{
 "cells": [
  {
   "cell_type": "markdown",
   "id": "complete-petroleum",
   "metadata": {},
   "source": [
    "# Introduction to GPU Programming with Python\n",
    "## Other options: PyCUDA, CuPy, Cython"
   ]
  },
  {
   "cell_type": "markdown",
   "id": "retired-thompson",
   "metadata": {},
   "source": [
    "**pyCUDA**\n",
    "- Allow to use CUDA C / C ++ API in full\n",
    "- One of the most powerful options available in Python\n",
    "- Request to write C in Python and several modifications\n",
    "**CuPy**\n",
    "- CuPy is an open-source matrix library accelerated with CUDA\n",
    "- highly compatible with NumPy"
   ]
  },
  {
   "cell_type": "markdown",
   "id": "mineral-smoke",
   "metadata": {},
   "source": [
    "### PyCUDA\n",
    "PyCUDA lets you access Nvidia's CUDA parallel computation API from Python.\n",
    "Key features:\n",
    "\n",
    "- Maps all of CUDA into Python.\n",
    "- Enables run-time code generation (RTCG) for flexible, fast, automatically tuned codes.\n",
    "- Added robustness: automatic management of object lifetimes, automatic error checking\n",
    "- Added convenience: comes with ready-made on-GPU linear algebra, reduction, scan. Add-on packages for FFT and LAPACK available.\n",
    "- Fast. Near-zero wrapping overhead.\n",
    "    \n",
    "Disadvantage: you need to know a little bit of CUDA C/C++ to write a kernel"
   ]
  },
  {
   "cell_type": "markdown",
   "id": "worthy-narrative",
   "metadata": {},
   "source": [
    "Here is an example that takes a NumPy array, send it to GPU where each element is doubled"
   ]
  },
  {
   "cell_type": "code",
   "execution_count": null,
   "id": "timely-metabolism",
   "metadata": {},
   "outputs": [],
   "source": [
    "import pycuda.driver as cuda\n",
    "from pycuda.compiler import SourceModule\n",
    "import pycuda.autoinit\n",
    "import numpy"
   ]
  },
  {
   "cell_type": "code",
   "execution_count": null,
   "id": "timely-palestinian",
   "metadata": {},
   "outputs": [],
   "source": [
    "a = numpy.arange(0,16, dtype=numpy.float32)\n",
    "a_gpu = cuda.mem_alloc(a.nbytes)\n",
    "cuda.memcpy_htod(a_gpu, a)"
   ]
  },
  {
   "cell_type": "code",
   "execution_count": null,
   "id": "outside-combination",
   "metadata": {},
   "outputs": [],
   "source": [
    "mod = SourceModule(\"\" »\n",
    "              __global__ void doublify(float *a){\n",
    "              int idx = threadIdx.x*blockDim.y + threadIdx.y;\n",
    "                a[idx] *= 2;\n",
    "                __syncthreads();\n",
    "        }\n",
    "\"\"\")"
   ]
  },
  {
   "cell_type": "code",
   "execution_count": null,
   "id": "reasonable-aircraft",
   "metadata": {},
   "outputs": [],
   "source": [
    "doublify = mod.get_function(\"doublify\")\n",
    "doublify(a_gpu, grid=(1,1), block=(4,4,1))\n",
    "\n",
    "a_doubled = numpy.empty_like(a)\n",
    "cuda.memcpy_dtoh(a_doubled, a_gpu)\n",
    "print(a_doubled)"
   ]
  },
  {
   "cell_type": "markdown",
   "id": "medium-history",
   "metadata": {},
   "source": [
    "#### Few important commands\n",
    "**Data transfer**\n",
    "cuda.mem_alloc(size) : allocate array of size size on the GPU\n",
    "cuda.memcpy_htod(destination, source) : copy array from CPU to GPU\n",
    "cuda.memcpy_dtoh(destination, source) : copy array from GPU back to CPU\n",
    "\n",
    "**Creating CUDA kernel**\n",
    "mod = SourceModule(\"\"\"   CUDA KERNEL CODE \"\"\")  \n",
    "\n",
    "**Shortcuts**\n",
    "cuda.In(A)\n",
    "cuda.Out(A)\n",
    "cuda.InOut(A)\n"
   ]
  },
  {
   "cell_type": "markdown",
   "id": "according-warner",
   "metadata": {},
   "source": [
    "#### GPUARRAY: PyCUDA library\n"
   ]
  },
  {
   "cell_type": "markdown",
   "id": "completed-wallpaper",
   "metadata": {},
   "source": [
    "### CuPy\n",
    "Just like NumPy, CuPy offers:\n",
    "\n",
    "    ndarray multi-dimensional arrays, but for GPUs\n",
    "    ufuncs, for GPUs\n",
    "    a large set of functions implemented with CUDA"
   ]
  },
  {
   "cell_type": "code",
   "execution_count": null,
   "id": "alien-folks",
   "metadata": {},
   "outputs": [],
   "source": [
    "import numpy as np\n",
    "import cupy as cp"
   ]
  },
  {
   "cell_type": "markdown",
   "id": "characteristic-order",
   "metadata": {},
   "source": [
    "#### ndarray\n",
    "We can create an `ndarray` which will be allocated on the current GPU. Using a previous example:"
   ]
  },
  {
   "cell_type": "code",
   "execution_count": null,
   "id": "sunrise-trash",
   "metadata": {},
   "outputs": [],
   "source": [
    "a = cp.zeros(shape=(2,4), dtype=np.int8)\n",
    "\n",
    "print(type(a))\n",
    "print(repr(a))\n",
    "print(a.dtype)\n",
    "print(a.shape)"
   ]
  },
  {
   "cell_type": "markdown",
   "id": "computational-advisory",
   "metadata": {},
   "source": [
    "It is also possible to move data from the system to the GPU. For example, we can move an array `numpy.ndarray`:"
   ]
  },
  {
   "cell_type": "code",
   "execution_count": null,
   "id": "contrary-redhead",
   "metadata": {},
   "outputs": [],
   "source": [
    "a_cpu = np.array([1,2,3])\n",
    "a_gpu = cp.asarray(a_cpu)\n",
    "\n",
    "print('cpu :', a_cpu)\n",
    "print('gpu :', a_gpu, a_gpu.device)"
   ]
  },
  {
   "cell_type": "markdown",
   "id": "tribal-crystal",
   "metadata": {},
   "source": [
    "It is important to note that in order to display the GPU table, the data is copied to the system beforehand.\n",
    "It is also possible to move the data to the system:"
   ]
  },
  {
   "cell_type": "code",
   "execution_count": null,
   "id": "typical-birthday",
   "metadata": {},
   "outputs": [],
   "source": [
    "a_cpu2 = cp.asnumpy(a_gpu)\n",
    "print(repr(a_cpu2))\n",
    "print(type(a_cpu2))\n",
    "\n",
    "# Ou équivalent\n",
    "# a_cpu2 = a_gpu.get()"
   ]
  }
 ],
 "metadata": {
  "kernelspec": {
   "display_name": "Python 3 (ipykernel)",
   "language": "python",
   "name": "python3"
  },
  "language_info": {
   "codemirror_mode": {
    "name": "ipython",
    "version": 3
   },
   "file_extension": ".py",
   "mimetype": "text/x-python",
   "name": "python",
   "nbconvert_exporter": "python",
   "pygments_lexer": "ipython3",
   "version": "3.9.6"
  }
 },
 "nbformat": 4,
 "nbformat_minor": 5
}
