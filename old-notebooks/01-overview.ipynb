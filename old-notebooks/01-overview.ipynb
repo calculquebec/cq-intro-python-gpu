{
 "cells": [
  {
   "cell_type": "markdown",
   "id": "biblical-independence",
   "metadata": {},
   "source": [
    "# Introduction to GPU Programming with Python\n",
    "## Overview\n",
    "\n",
    "This tutorial is divided into the following sections:\n",
    "1. [Why computing on GPUs](#Why)\n",
    "2. [CPUs vs GPUs](#CuPy)\n",
    "3. [GPU and Python: available libraries](#Numba)\n",
    "4. [Intro to Numba: just-in-time compiling](#Numba)\n",
    "5. [Hands-on: Matrix Multiplixation on CPU](#Numba)\n",
    "6. [Numba+CUDA: porting a CPU code to GPU;](#Numba)\n",
    "7. [Hands-on: Matrix Multiplication on GPU (global memory);](#Numba)\n",
    "8. [Numba+CUDA, advanced topics: shared memory, cooperation, streaming;](#Numba)\n",
    "9. [Hands-on: Matrix Multiplication on GPU with shared memory](#Numba)\n",
    "10. [Afternoon session: Matrix Multiplication, Polynomial evaluatin, Mandelbrot example](#Numba)"
   ]
  },
  {
   "cell_type": "markdown",
   "id": "rotary-general",
   "metadata": {},
   "source": [
    "### How to Use Jupyter\n",
    "When a cell is in edit mode:\n",
    "\n",
    "  Shortcut  | Description\n",
    "----------- | -----------\n",
    "Shift+Enter | Run the cell, and go to the next\n",
    "Tab         | Indent code or auto-completion\n",
    "Esc         | Go to command mode\n",
    "\n",
    "When a cell is in command mode:\n",
    "\n",
    "  Shortcut   | Description\n",
    "------------ | -----------\n",
    "Shift+Enter  | Run the cell, and go to the next\n",
    "Double-click | Go to edit mode\n",
    "Enter        | Go to edit mode\n",
    "\n",
    "  Shortcut   | Description\n",
    "------------ | -----------\n",
    "A            | Insert a cell above\n",
    "B            | Insert a cell below\n",
    "C            | Copy the current cell\n",
    "V            | Paste the cell below\n",
    "D D          | Delete the current cell\n",
    "M            | Change to Markdown cell\n",
    "Y            | Change to Code cell\n",
    "\n",
    "To reset all cells:\n",
    "* Go to the top menu, and select Kernel -> Restart & Clear Output"
   ]
  }
 ],
 "metadata": {
  "kernelspec": {
   "display_name": "Python 3 (ipykernel)",
   "language": "python",
   "name": "python3"
  },
  "language_info": {
   "codemirror_mode": {
    "name": "ipython",
    "version": 3
   },
   "file_extension": ".py",
   "mimetype": "text/x-python",
   "name": "python",
   "nbconvert_exporter": "python",
   "pygments_lexer": "ipython3",
   "version": "3.9.6"
  }
 },
 "nbformat": 4,
 "nbformat_minor": 5
}
