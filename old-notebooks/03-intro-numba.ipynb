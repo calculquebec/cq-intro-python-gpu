{
 "cells": [
  {
   "cell_type": "markdown",
   "id": "turkish-funds",
   "metadata": {},
   "source": [
    "# Introduction to GPU Programming with Python\n",
    "## Intro to Numba: just-in-time library\n",
    "Numba is a library that compiles Python code at runtime to native machine instructions\n",
    "Numba is an on-the-fly compiler of specialized types, functions for CPU or GPU.\n",
    "Important: you don't need to dramatically change you Python code"
   ]
  },
  {
   "cell_type": "markdown",
   "id": "healthy-structure",
   "metadata": {},
   "source": [
    "Numba's central feature is a numba.jit decorator\n",
    "Decorator: modifies functions in a prticular way. You can think of them as functions that take a function as input and produce a function as output:\n",
    "- a function maybe wrapped by one or more decorator expression\n",
    "- decorator expression is evaluated when the function is defined\n",
    "- multiple decorators are applied in nested fashion"
   ]
  },
  {
   "cell_type": "markdown",
   "id": "damaged-attendance",
   "metadata": {},
   "source": [
    "### Getting started with @jit"
   ]
  },
  {
   "cell_type": "code",
   "execution_count": null,
   "id": "iraqi-traveler",
   "metadata": {
    "tags": []
   },
   "outputs": [],
   "source": [
    "from numba import jit, njit"
   ]
  },
  {
   "cell_type": "markdown",
   "id": "10be4db0-6ea4-4468-be43-69a3b2da9396",
   "metadata": {},
   "source": [
    "Now lets do an example with an error "
   ]
  },
  {
   "cell_type": "code",
   "execution_count": null,
   "id": "2ab460c2-a8fa-4758-a892-009ad1bcc00b",
   "metadata": {},
   "outputs": [],
   "source": [
    "def original_function(input_list):\n",
    "    output_list = []\n",
    "    for item in input_list:\n",
    "        if item % 2 == 0:\n",
    "            output_list.append(2)\n",
    "        else:\n",
    "            output_list.append('1')\n",
    "    return output_list\n",
    "\n",
    "test_list = list(range(100000))"
   ]
  },
  {
   "cell_type": "code",
   "execution_count": null,
   "id": "b6f4cb4e-3889-42e3-9038-0ba1fe04d3a2",
   "metadata": {
    "tags": []
   },
   "outputs": [],
   "source": [
    "%time original_function(test_list)[1:10]"
   ]
  },
  {
   "cell_type": "markdown",
   "id": "147e35ef-f8b3-4275-ac09-afbff1a424b8",
   "metadata": {},
   "source": [
    "Now lets use Numba, or lets jit the code:"
   ]
  },
  {
   "cell_type": "code",
   "execution_count": null,
   "id": "8dac4821-273a-4077-909d-a744d7ed9a4b",
   "metadata": {},
   "outputs": [],
   "source": [
    "jitted_function = jit()(original_function)"
   ]
  },
  {
   "cell_type": "code",
   "execution_count": null,
   "id": "3071a594-5472-4160-9cad-722487a15541",
   "metadata": {},
   "outputs": [],
   "source": [
    "%time jitted_function(test_list)[1:10]"
   ]
  },
  {
   "cell_type": "markdown",
   "id": "e8ca4c14-78e4-432b-b9f1-4e079041f823",
   "metadata": {},
   "source": [
    "In fact, with jit it's slower. Why ? \n",
    "Avoid jitting a function or using @jit AS IS. \n",
    "Use @jit(nopython=True) or njit"
   ]
  },
  {
   "cell_type": "markdown",
   "id": "dd2340e8-8586-42fa-aaca-a4674b5fd468",
   "metadata": {},
   "source": [
    "Numba has two compilations modes:\n",
    "- nopython mode(nopython=True or njit): Numba compiler generates code that does not access the Python C API\n",
    "- object mode(nopython=False) : Numba compiler generates code that handles all values as Python objects and uses the Python C API\n",
    "  "
   ]
  },
  {
   "cell_type": "code",
   "execution_count": null,
   "id": "2ab70c45-5037-40a4-8277-c48ecf40ab15",
   "metadata": {},
   "outputs": [],
   "source": [
    "njitted_function = njit()(original_function)"
   ]
  },
  {
   "cell_type": "code",
   "execution_count": null,
   "id": "78adcacf-1aed-46a9-a37f-96d722ca4013",
   "metadata": {},
   "outputs": [],
   "source": [
    "njitted_function(test_list)[0:10]"
   ]
  },
  {
   "cell_type": "markdown",
   "id": "c93d6323-7263-4325-be58-987a1a700488",
   "metadata": {},
   "source": [
    "This time we got an error instead of a warning ? Why ?\n",
    "Notice : the compilation happens at call time. This is because types are not specified so the compiler needs to see an example of the data being input to generate the code."
   ]
  },
  {
   "cell_type": "markdown",
   "id": "0d1697ba-bc96-4cd8-a980-13c2bb5c9e8f",
   "metadata": {},
   "source": [
    "Now, lets correct our error and make a somewhat sane function this time :"
   ]
  },
  {
   "cell_type": "code",
   "execution_count": null,
   "id": "6a4cb30a-c884-4793-bab6-696d1f07afdd",
   "metadata": {},
   "outputs": [],
   "source": [
    "def sane_function(input_list):\n",
    "    output_list = []\n",
    "    for item in input_list:\n",
    "        if item % 2 == 0:\n",
    "            output_list.append(2)\n",
    "        else:\n",
    "            output_list.append(1)\n",
    "    return output_list\n",
    "\n",
    "test_list = list(range(100000))"
   ]
  },
  {
   "cell_type": "code",
   "execution_count": null,
   "id": "67019d54-8662-446c-9b3b-cb4ea2efb971",
   "metadata": {},
   "outputs": [],
   "source": [
    "%timeit sane_function(test_list)[0:10]"
   ]
  },
  {
   "cell_type": "code",
   "execution_count": null,
   "id": "6f4c45ce-4518-4ebb-a1c6-5176fe8158a6",
   "metadata": {},
   "outputs": [],
   "source": [
    "njitted_sane_function = njit()(sane_function)"
   ]
  },
  {
   "cell_type": "code",
   "execution_count": null,
   "id": "a880e4ed-f343-4869-9123-b63173cf7298",
   "metadata": {},
   "outputs": [],
   "source": [
    "%time njitted_sane_function(test_list)[0:10]"
   ]
  },
  {
   "cell_type": "markdown",
   "id": "f567fbc7-793a-4241-82d5-7ec9717876ef",
   "metadata": {},
   "source": [
    "Heh, it's slow. Where is a speedup ? \n",
    "It's not a good idea to throw a normal python list at numba because it'll take it a long time verifying types. Instead for now use numpy arrays. "
   ]
  },
  {
   "cell_type": "code",
   "execution_count": null,
   "id": "6f25bcd8-37e4-4ae1-8abf-c2df1eed6304",
   "metadata": {},
   "outputs": [],
   "source": [
    "import numpy as np\n",
    "test_list = np.arange(100000)"
   ]
  },
  {
   "cell_type": "code",
   "execution_count": null,
   "id": "1c5759a6-7f9e-42a4-a069-d965e179d4bb",
   "metadata": {},
   "outputs": [],
   "source": [
    "%time njitted_sane_function(test_list)[0:10]"
   ]
  },
  {
   "cell_type": "markdown",
   "id": "d3e05806-38e1-4e5f-aa78-5d0df24d4a2c",
   "metadata": {},
   "source": [
    "Finally we have some speedup."
   ]
  },
  {
   "cell_type": "markdown",
   "id": "17894e38-820e-4f64-a520-3902c9823a5c",
   "metadata": {},
   "source": [
    "### Automatic parallelization"
   ]
  },
  {
   "cell_type": "markdown",
   "id": "63c3bfd7-fbb2-4dc2-8211-4d10e1eb807c",
   "metadata": {},
   "source": [
    "Numba allows for multi-threaded calculation. "
   ]
  },
  {
   "cell_type": "code",
   "execution_count": null,
   "id": "2b08b173-369c-4ef5-9337-26a670cc9497",
   "metadata": {},
   "outputs": [],
   "source": [
    "def reduction(x,result):\n",
    "    for i in range(x.size):  \n",
    "        result += x[i]"
   ]
  },
  {
   "cell_type": "code",
   "execution_count": null,
   "id": "8abfda4d-aab4-4790-afb1-6eb55db07a38",
   "metadata": {},
   "outputs": [],
   "source": [
    "x = np.arange(1000000,dtype=np.int64)\n",
    "result = np.zeros(1,dtype=np.int64)"
   ]
  },
  {
   "cell_type": "code",
   "execution_count": null,
   "id": "9f159799-b392-482e-9dfb-ecfeef1c7a5b",
   "metadata": {},
   "outputs": [],
   "source": [
    "%timeit reduction(x,result)"
   ]
  },
  {
   "cell_type": "code",
   "execution_count": null,
   "id": "76c8fcc6-5d16-4902-bf88-cdf5216e57c5",
   "metadata": {},
   "outputs": [],
   "source": [
    "@njit\n",
    "def njitted_reduction(x,result):\n",
    "    for i in range(x.size):  \n",
    "        result += x[i]"
   ]
  },
  {
   "cell_type": "code",
   "execution_count": null,
   "id": "1162c04a-3983-4884-b87d-432e03af866b",
   "metadata": {},
   "outputs": [],
   "source": [
    "%timeit njitted_reduction(x,result)"
   ]
  },
  {
   "cell_type": "code",
   "execution_count": null,
   "id": "7aa54565-87f7-4d65-ad38-0203381e4dd7",
   "metadata": {},
   "outputs": [],
   "source": [
    "@njit(parallel=True)\n",
    "def njitted_parallel_reduction(x,result):\n",
    "    for i in range(x.size):  \n",
    "        result += x[i]"
   ]
  },
  {
   "cell_type": "code",
   "execution_count": null,
   "id": "e0532f46-f122-4bc9-95ca-fa103a474899",
   "metadata": {},
   "outputs": [],
   "source": [
    "%timeit njitted_parallel_reduction(x,result)"
   ]
  },
  {
   "cell_type": "markdown",
   "id": "b5249771-5adc-436b-bc3c-bd70c18cd3a8",
   "metadata": {},
   "source": [
    "### Analysis & Diagnostics"
   ]
  },
  {
   "cell_type": "markdown",
   "id": "4b5433e5-c202-4160-870e-7840a0a89de1",
   "metadata": {},
   "source": [
    "The parallel option for jit() can produce diagnostic information about the transforms undertaken in automatically parallelizing the decorated code. This information can be accessed in two ways:\n",
    "* by setting the environment variable NUMBA_PARALLEL_DIAGNOSTICS\n",
    "* by calling parallel_diagnostics()"
   ]
  },
  {
   "cell_type": "code",
   "execution_count": null,
   "id": "20a469d1-be8e-4184-8d38-a093da8a888b",
   "metadata": {},
   "outputs": [],
   "source": [
    "njitted_parallel_reduction.parallel_diagnostics(level=4)"
   ]
  },
  {
   "cell_type": "markdown",
   "id": "3bca2f45-9e54-44b1-b337-6e0e070bbd92",
   "metadata": {},
   "source": [
    "### Explicit parallelization with prange"
   ]
  },
  {
   "cell_type": "markdown",
   "id": "99edd77a-6a3d-4b1c-aa2b-31207e8c0ef2",
   "metadata": {},
   "source": [
    "One can use Numba’s prange instead of range to specify that a loop can be parallelized. "
   ]
  },
  {
   "cell_type": "code",
   "execution_count": null,
   "id": "ef6c6f0d-ed4a-49c3-863f-5595ff323419",
   "metadata": {},
   "outputs": [],
   "source": [
    "from numba import prange "
   ]
  },
  {
   "cell_type": "code",
   "execution_count": null,
   "id": "46b2a2fd-8ff4-4cec-b7e0-50bde086abf4",
   "metadata": {},
   "outputs": [],
   "source": [
    "@njit(parallel=True)\n",
    "def njitted_parallel_prange_reduction(x,result):\n",
    "    for i in prange(x.size):  \n",
    "        result += x[i]"
   ]
  },
  {
   "cell_type": "code",
   "execution_count": null,
   "id": "88796f9f-0446-441b-ab48-5b26b48d33ce",
   "metadata": {},
   "outputs": [],
   "source": [
    "%timeit njitted_parallel_prange_reduction(x,result)"
   ]
  },
  {
   "cell_type": "markdown",
   "id": "70f9d17b-191f-46c8-8c7c-12740466c35b",
   "metadata": {
    "tags": []
   },
   "source": [
    "### Hands-on session: Matrix multiplication using @jit (on CPU)"
   ]
  },
  {
   "cell_type": "markdown",
   "id": "5c71146a-14da-4722-bdf0-2241e7acab9f",
   "metadata": {},
   "source": [
    "![](images/Matrix_multiplication_diagram_2.svg.png)"
   ]
  },
  {
   "cell_type": "markdown",
   "id": "f66c332e-a304-4235-8b8a-b32f5c3316b4",
   "metadata": {},
   "source": [
    "![](images/matrix_formula.png)"
   ]
  },
  {
   "cell_type": "code",
   "execution_count": null,
   "id": "5130c501-53c1-4d9a-99e1-aaadbcd0f87f",
   "metadata": {
    "tags": []
   },
   "outputs": [],
   "source": [
    "# Part 0: Write a matrix multiplication code (2 external loops over i,j \n",
    "# and one internal for multiplication and reduction)\n",
    "def matmul(A,B,C):\n",
    "    # iterating by row of A\n",
    "    .....\n",
    "  \n",
    "        # iterating by coloum by B \n",
    "        .....\n",
    "  \n",
    "            # iterating by rows of B\n",
    "            ....\n",
    "                C[i][j] += A[i][k] * B[k][j]"
   ]
  },
  {
   "cell_type": "code",
   "execution_count": null,
   "id": "d24a5bcd-9ed0-4df5-a034-00a59d0367f3",
   "metadata": {},
   "outputs": [],
   "source": [
    "#Part 1: Create matrices A,B,C as numpy arrays (128,128). Fill A and B with random numbers.\n",
    "A = \n",
    "B =\n",
    "C = "
   ]
  },
  {
   "cell_type": "code",
   "execution_count": null,
   "id": "e646029b-79f8-4712-8022-34bd42f2a2ae",
   "metadata": {},
   "outputs": [],
   "source": [
    "# Excute matmul without optimization for reference\n",
    "%timeit matmul(A,B,C)"
   ]
  },
  {
   "cell_type": "code",
   "execution_count": null,
   "id": "d22b81a4-5a81-455d-8c54-aa001b3b0a53",
   "metadata": {},
   "outputs": [],
   "source": [
    "# Part 2: Copy the code from Part 1 and apply jit decorator to optimize it\n",
    "from numba import ..."
   ]
  },
  {
   "cell_type": "code",
   "execution_count": null,
   "id": "c8586f70-9892-48d4-8e8f-afe1f2f5da5e",
   "metadata": {},
   "outputs": [],
   "source": [
    "#Part 3: Execute matmul and measure execution time\n",
    "%timeit matmul(A,B,C)"
   ]
  },
  {
   "cell_type": "code",
   "execution_count": null,
   "id": "db600f0d-df9a-4c9a-8de6-328b34e87bb0",
   "metadata": {},
   "outputs": [],
   "source": [
    "# Part 3: Copy the code from Part 2 and parallelize it \n",
    "from numba import ...\n"
   ]
  },
  {
   "cell_type": "code",
   "execution_count": null,
   "id": "b906c4ac-4595-49a8-9b24-32d3e99b790b",
   "metadata": {},
   "outputs": [],
   "source": [
    "%timeit matmul(A,B,C)"
   ]
  },
  {
   "cell_type": "markdown",
   "id": "b6b9d0c0-6cf1-4a6e-b36d-61d2edb8ae9b",
   "metadata": {},
   "source": [
    "### Vectorization and ufuncs"
   ]
  },
  {
   "cell_type": "markdown",
   "id": "12767843-62d9-4381-b552-85a1e09e4dfc",
   "metadata": {},
   "source": [
    "Before we switch to computing on GPUs, lets briefly discuss another decorator - `@vectorize`\""
   ]
  },
  {
   "cell_type": "markdown",
   "id": "c20d7416-5f35-42d5-8eda-592ab10056d6",
   "metadata": {},
   "source": [
    "A universal function (or ufunc for short) is a function that operates on NumPy arrays (ndarrays) in an element-by-element fashion. A ufunc is a “vectorized” wrapper for a function that takes a fixed number of scalar inputs and produces a fixed number of scalar outputs."
   ]
  },
  {
   "cell_type": "code",
   "execution_count": null,
   "id": "83893518-e399-4f68-b61f-974f98cff920",
   "metadata": {},
   "outputs": [],
   "source": [
    "from numba import vectorize"
   ]
  },
  {
   "cell_type": "code",
   "execution_count": null,
   "id": "90e363d4-81fd-41fb-a7c6-461aa32c5142",
   "metadata": {},
   "outputs": [],
   "source": [
    "# Apply @vectorize to make it ufunc\n",
    "@vectorize\n",
    "def scalar_computation(num):\n",
    "    if num % 2 == 0:\n",
    "        return 2\n",
    "    else:\n",
    "        return 1\n",
    "test_list = np.arange(100000)"
   ]
  },
  {
   "cell_type": "markdown",
   "id": "4104edda-8c6e-4f6a-b201-9cf61208f639",
   "metadata": {},
   "source": [
    "Here we can write a function to operate on a single element, but then call it on a list!"
   ]
  },
  {
   "cell_type": "code",
   "execution_count": null,
   "id": "9f795076-67fa-4102-8eaa-2f764a24c1b0",
   "metadata": {},
   "outputs": [],
   "source": [
    "%time scalar_computation(test_list)"
   ]
  },
  {
   "cell_type": "code",
   "execution_count": null,
   "id": "571fa239-4f7c-4e84-96b4-1c68c63b2a04",
   "metadata": {},
   "outputs": [],
   "source": [
    "%time scalar_computation(test_list)"
   ]
  },
  {
   "cell_type": "markdown",
   "id": "a589863a-fbb7-4982-9005-9ef1906e85b5",
   "metadata": {},
   "source": [
    "Second execution was faster because numba ensures a properly sized output list is pre-allocated, which is an optimization over the past form of the function where the list was being grown to an unknown size. This can be fixed by allocating an output array first."
   ]
  },
  {
   "cell_type": "code",
   "execution_count": null,
   "id": "d8f4e3e9-e7c6-4263-bed0-a68ec13ebc7f",
   "metadata": {},
   "outputs": [],
   "source": [
    "@njit\n",
    "def allocated_func(input_list):\n",
    "    output_list = np.zeros_like(input_list)\n",
    "    for ii, item in enumerate(input_list):\n",
    "        if item % 2 == 0:\n",
    "            output_list[ii] = 2\n",
    "        else:\n",
    "            output_list[ii] = 1\n",
    "    return output_list"
   ]
  },
  {
   "cell_type": "code",
   "execution_count": null,
   "id": "448896b4-c3fd-4765-872b-7a798fa33a13",
   "metadata": {},
   "outputs": [],
   "source": [
    "%time allocated_func(test_list)"
   ]
  },
  {
   "cell_type": "code",
   "execution_count": null,
   "id": "ca5f7ade-8c01-4d3a-bd39-d0a63cadae8c",
   "metadata": {},
   "outputs": [],
   "source": [
    "%time allocated_func(test_list)"
   ]
  },
  {
   "cell_type": "markdown",
   "id": "fb439f90-431a-4247-ac4f-d1365fef529a",
   "metadata": {},
   "source": [
    "### Signatures, ufuncs, and GPUs"
   ]
  },
  {
   "cell_type": "markdown",
   "id": "7ca2dc50-f35b-4e5b-a373-e1f13fc11cb2",
   "metadata": {},
   "source": [
    "Numba with CUDA can produce a ufunc-like objects. This object is a close analog but not fully compatible with a regular NumPy ufunc."
   ]
  },
  {
   "cell_type": "code",
   "execution_count": null,
   "id": "540a6291-5381-4e19-bf2d-0935be58f638",
   "metadata": {},
   "outputs": [],
   "source": [
    "import numpy as np\n",
    "from numba import vectorize\n",
    "import math"
   ]
  },
  {
   "cell_type": "code",
   "execution_count": null,
   "id": "4c24401c-c834-4661-ab64-bc00f371bb79",
   "metadata": {},
   "outputs": [],
   "source": [
    "@vectorize(['float32(float32, float32, float32)'])\n",
    "def cpu_discriminant(a, b, c):\n",
    "    return math.sqrt(b ** 2 - 4 * a * c)"
   ]
  },
  {
   "cell_type": "code",
   "execution_count": null,
   "id": "4fb3cc18-a63e-4184-817c-7d71943ef6b0",
   "metadata": {},
   "outputs": [],
   "source": [
    "A = np.array(np.random.sample(10000), dtype=np.float32)\n",
    "B = np.array(np.random.sample(10000)+10, dtype=np.float32)\n",
    "C = np.array(np.random.sample(10000), dtype=np.float32)"
   ]
  },
  {
   "cell_type": "code",
   "execution_count": null,
   "id": "197a493f-20e9-43fa-bc0f-8909f2c01251",
   "metadata": {},
   "outputs": [],
   "source": [
    "%time cpu_discriminant(A,B,C)"
   ]
  },
  {
   "cell_type": "code",
   "execution_count": null,
   "id": "01090507-4302-4736-b40a-d87955a5e971",
   "metadata": {},
   "outputs": [],
   "source": [
    "@vectorize(['float32(float32, float32, float32)'], target='cuda')\n",
    "def cu_discriminant(a, b, c):\n",
    "    return math.sqrt(b ** 2 - 4 * a * c)"
   ]
  },
  {
   "cell_type": "code",
   "execution_count": null,
   "id": "34a8ea7b-6841-40c1-91b6-0713e5eaefe2",
   "metadata": {},
   "outputs": [],
   "source": [
    "%time cu_discriminant(A,B,C)"
   ]
  },
  {
   "cell_type": "markdown",
   "id": "d9812b53-e665-439d-b1f2-f82675de6195",
   "metadata": {},
   "source": [
    "It's very slow compared to the CPU ufunc. However, the advantage here is that such a CUDA ufunc adds support for passing intra-device arrays (already on the GPU device) to reduce traffic over the PCI-express bus."
   ]
  },
  {
   "cell_type": "markdown",
   "id": "e01b89a0-4270-44f6-a9a1-c45f9bf21882",
   "metadata": {},
   "source": [
    "In other words: instead of A,B, and C which are CPU variables we can pass the GPU variables."
   ]
  }
 ],
 "metadata": {
  "kernelspec": {
   "display_name": "Python 3 (ipykernel)",
   "language": "python",
   "name": "python3"
  },
  "language_info": {
   "codemirror_mode": {
    "name": "ipython",
    "version": 3
   },
   "file_extension": ".py",
   "mimetype": "text/x-python",
   "name": "python",
   "nbconvert_exporter": "python",
   "pygments_lexer": "ipython3",
   "version": "3.9.6"
  }
 },
 "nbformat": 4,
 "nbformat_minor": 5
}
