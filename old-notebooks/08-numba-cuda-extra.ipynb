{
 "cells": [
  {
   "cell_type": "markdown",
   "id": "b7ef26ea",
   "metadata": {},
   "source": [
    "# Introduction to GPU Programming with Python\n",
    "## Questions or Exercises"
   ]
  },
  {
   "cell_type": "markdown",
   "id": "5e2445f8",
   "metadata": {},
   "source": [
    "### Mandelbrot Example\n",
    "![](images/322px-Mandel_zoom_00_mandelbrot_set.jpeg)"
   ]
  },
  {
   "cell_type": "markdown",
   "id": "fbaa2345",
   "metadata": {},
   "source": [
    "The Mandelbrot set can be explained with the equation zn+1 = zn2 + c.\n",
    "Images are created by applying the equation to each pixel in an iterative process, using the pixel's position in the image for the number 'c'. \n",
    "\n",
    "'c' is obtained by mapping the position of the pixel in the image relative to the position of the point on the complex plane. \n",
    "\n",
    "In our exercise the mandel function is supposed to perform the Mandelbrot set calculation for a given (x,y) position on the imaginary plane. It returns the number of iterations before the computation \"escapes\"."
   ]
  },
  {
   "cell_type": "code",
   "execution_count": null,
   "id": "9d736199",
   "metadata": {},
   "outputs": [],
   "source": [
    "import numpy as np\n",
    "from matplotlib.pyplot import imshow, show\n",
    "from timeit import default_timer as timer\n",
    "from numba import jit,cuda"
   ]
  },
  {
   "cell_type": "code",
   "execution_count": null,
   "id": "01d67281",
   "metadata": {},
   "outputs": [],
   "source": [
    "def mandel(x, y, max_iters):\n",
    "  \n",
    "  c = complex(x, y)\n",
    "  z = 0.0j\n",
    "  for i in range(max_iters):\n",
    "    z = z*z + c\n",
    "    if (z.real*z.real + z.imag*z.imag) >= 4:\n",
    "      return i\n",
    "\n",
    "  return max_iters"
   ]
  },
  {
   "cell_type": "markdown",
   "id": "30bfd8a8",
   "metadata": {},
   "source": [
    "Then we need to make a function that iterates over all the pixels in the image, computing the complex coordinates from the pixel coordinates, and calls the mandel function at each pixel. The return value of mandel is used to color the pixel."
   ]
  },
  {
   "cell_type": "code",
   "execution_count": null,
   "id": "7c98d672",
   "metadata": {},
   "outputs": [],
   "source": [
    "#Part1 : Make a create_fractal function\n",
    "def create_fractal(min_x, max_x, min_y, max_y, image, iters):\n",
    "    height = image.shape[0]\n",
    "    width = image.shape[1]\n",
    "    \n",
    "    pixel_size_x = ###\n",
    "    pixel_size_y = ###\n",
    "    for x in ### :\n",
    "        real = \n",
    "        for y in ### :\n",
    "            image = \n",
    "            color = \n",
    "            image[] = \n",
    " "
   ]
  },
  {
   "cell_type": "markdown",
   "id": "93b720ad",
   "metadata": {},
   "source": [
    "Next we create a 1024x1024 pixel image as a numpy array of bytes. We then call create_fractal with appropriate coordinates to fit the whole mandelbrot set."
   ]
  },
  {
   "cell_type": "code",
   "execution_count": null,
   "id": "5471ddca",
   "metadata": {},
   "outputs": [],
   "source": [
    "#Part 2: Next we create an empty array, size 1024x1024, type np.uint8. Call create_fractal with appropriate coordinates \n",
    "#to fit the whole mandelbrot set. Then show the image. Measure the execution time.\n",
    "image = ###\n",
    "create_fractal(-2.0, 1.0, -1.0, 1.0, image, 20) \n",
    "imshow(image)\n",
    "show()"
   ]
  },
  {
   "cell_type": "code",
   "execution_count": null,
   "id": "f834a749",
   "metadata": {},
   "outputs": [],
   "source": [
    "#Part 3: Modify both mandel and create_fractal function and optimize/parallelize them with jit decorator \n",
    "#to work on the CPU\n"
   ]
  },
  {
   "cell_type": "code",
   "execution_count": null,
   "id": "95390ede",
   "metadata": {},
   "outputs": [],
   "source": [
    "#Part 4: Run again and measure the execution time\n",
    "image = ###\n",
    "create_fractal(-2.0, 1.0, -1.0, 1.0, image, 20) \n",
    "imshow(image)\n",
    "show()"
   ]
  },
  {
   "cell_type": "code",
   "execution_count": null,
   "id": "8c2b18c9",
   "metadata": {},
   "outputs": [],
   "source": [
    "#Part 5: Write the kernel function mandel_kernel  with numba.cuda. Also modify mandel to mandel_gpu with cuda.jit\n",
    "mandel_gpu = \n",
    "def mandel_kernel(min_x, max_x, min_y, max_y, image, iters):\n",
    "    height = image.shape[0]\n",
    "    width = image.shape[1]\n",
    "    #####"
   ]
  },
  {
   "cell_type": "code",
   "execution_count": null,
   "id": "9263e903",
   "metadata": {},
   "outputs": [],
   "source": [
    "#Part 6: Initiate image array, create cuda grid\n",
    "image = ###"
   ]
  },
  {
   "cell_type": "code",
   "execution_count": null,
   "id": "6b395abf",
   "metadata": {},
   "outputs": [],
   "source": [
    "#Part 7: Run the kernel. Also measure the execution time."
   ]
  },
  {
   "cell_type": "markdown",
   "id": "56779d37",
   "metadata": {},
   "source": [
    "### Matrix multiplication WITH SHARED MEMORY\n",
    "![](images/05-matmulshared.png)"
   ]
  },
  {
   "cell_type": "code",
   "execution_count": null,
   "id": "4ef47c5b-2577-4077-86ab-0b77673652cb",
   "metadata": {},
   "outputs": [],
   "source": [
    "import numpy as np\n",
    "from numba import cuda, float32"
   ]
  },
  {
   "cell_type": "code",
   "execution_count": null,
   "id": "db08cbcb",
   "metadata": {},
   "outputs": [],
   "source": [
    "#Part 3: Create a CUDA kernel with @cuda.jit decorator\n",
    "\n",
    "# Controls threads per block and shared memory usage.\n",
    "# The computation will be done on blocks of TPBxTPB elements.\n",
    "TPB = 16\n",
    "\n",
    "def fast_matmul(A, B, C):\n",
    "    # Define an array in the shared memory\n",
    "    # The size and type of the arrays must be known at compile time\n",
    "    sA = cuda.shared.array(shape=(TPB, TPB), dtype=float32)\n",
    "    sB = cuda.shared.array(shape=(TPB, TPB), dtype=float32)\n",
    "    \n",
    "    # Define global and thread indices\n",
    "    \n",
    "    # Define number of blocks per grid\n",
    "    \n",
    "    tmp = 0.\n",
    "    for i in range(bpg):\n",
    "        # Preload data into shared memory\n",
    "        #####\n",
    "        \n",
    "        # Wait until all threads finish preloading\n",
    "        \n",
    "        # Computes partial product on the shared memory\n",
    "        for j in range(TPB):\n",
    "            #####\n",
    "            \n",
    "        # Wait until all threads finish computing\n",
    "        \n",
    "    # Put tmp into C matrix"
   ]
  },
  {
   "cell_type": "code",
   "execution_count": null,
   "id": "db5dba3d",
   "metadata": {},
   "outputs": [],
   "source": [
    "#Part 1: Create matrices A,B,C as numpy arrays (size 128x128,float32). Fill A and B with random numbers."
   ]
  },
  {
   "cell_type": "code",
   "execution_count": null,
   "id": "1cc1e4d0",
   "metadata": {},
   "outputs": [],
   "source": [
    "#Part 2: Calculate number of blocks and threads"
   ]
  },
  {
   "cell_type": "code",
   "execution_count": null,
   "id": "65113f77",
   "metadata": {},
   "outputs": [],
   "source": [
    "#Part 4: Call the kernel function and time it to get the execution time"
   ]
  }
 ],
 "metadata": {
  "kernelspec": {
   "display_name": "Python 3",
   "language": "python",
   "name": "python3"
  },
  "language_info": {
   "codemirror_mode": {
    "name": "ipython",
    "version": 3
   },
   "file_extension": ".py",
   "mimetype": "text/x-python",
   "name": "python",
   "nbconvert_exporter": "python",
   "pygments_lexer": "ipython3",
   "version": "3.8.5"
  }
 },
 "nbformat": 4,
 "nbformat_minor": 5
}
