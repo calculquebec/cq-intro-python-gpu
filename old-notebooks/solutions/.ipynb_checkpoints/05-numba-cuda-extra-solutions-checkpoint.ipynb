{
 "cells": [
  {
   "cell_type": "markdown",
   "id": "2e8df65d",
   "metadata": {},
   "source": [
    "# Introduction to GPU Programming with Python\n",
    "## Solutions to the notebook 5"
   ]
  },
  {
   "cell_type": "markdown",
   "id": "88a9a34b",
   "metadata": {},
   "source": [
    "### Polynomial evaluation"
   ]
  },
  {
   "cell_type": "code",
   "execution_count": null,
   "id": "4c0dec87-b819-4b76-828f-18339610727c",
   "metadata": {},
   "outputs": [],
   "source": [
    "import numpy as np\n",
    "from numba import jit,cuda"
   ]
  },
  {
   "cell_type": "code",
   "execution_count": null,
   "id": "d09961d8",
   "metadata": {},
   "outputs": [],
   "source": [
    "#Part 3: Modify polynomial function to make it work with numba.cuda\n",
    "@cuda.jit\n",
    "def cuda_polyval(result, array, coeffs):\n",
    "    # Evaluate a polynomial function over an array with Horner's method.\n",
    "    # The coefficients are given in descending order.\n",
    "    i = cuda.grid(1) # equivalent to i = cuda.blockIdx.x * cuda.blockDim.x + cuda.threadIdx.x\n",
    "    val = coeffs[0]\n",
    "    for coeff in coeffs[1:]:\n",
    "        val = val * array[i] + coeff\n",
    "    result[i] = val"
   ]
  },
  {
   "cell_type": "code",
   "execution_count": null,
   "id": "bc705389",
   "metadata": {},
   "outputs": [],
   "source": [
    "#Part 1: Allocate integer array (int32), size of 2048 * 1024. Also make an empty array for result, same size\n",
    "array = np.random.randn(2048 * 1024).astype(np.float32)\n",
    "coeffs = np.float32(range(1, 10))\n",
    "result = np.empty_like(array)"
   ]
  },
  {
   "cell_type": "code",
   "execution_count": null,
   "id": "d4dcaffc",
   "metadata": {},
   "outputs": [],
   "source": [
    "#Part 2: Prepare grid\n",
    "blocks=2048\n",
    "threads=1024"
   ]
  },
  {
   "cell_type": "code",
   "execution_count": null,
   "id": "d6847bfa",
   "metadata": {},
   "outputs": [],
   "source": [
    "#Part 4: Call the kernel and measure execution time\n",
    "%timeit cuda_polyval[blocks,threads](result, array, coeffs)"
   ]
  },
  {
   "cell_type": "code",
   "execution_count": null,
   "id": "bc06f107",
   "metadata": {},
   "outputs": [],
   "source": [
    "#Part 5: Call the built-in NumPy polynomial function  np.polyval(coeffs, array) and compare results\n",
    "numpy_result = np.polyval(coeffs, array)\n",
    "print('Maximum relative error compared to numpy.polyval:', np.max(np.abs(numpy_result - result)))"
   ]
  },
  {
   "cell_type": "code",
   "execution_count": null,
   "id": "defff05b",
   "metadata": {},
   "outputs": [],
   "source": [
    "#Part 6: Go back to the kernel (Part 3) and modify it to make it work on CPU with @jit\n",
    "@jit\n",
    "def host_polyval_CPU(result, array, coeffs):\n",
    "    for i in range(len(array)):\n",
    "        val = coeffs[0]\n",
    "        for coeff in coeffs[1:]:\n",
    "            val = val * array[i] + coeff\n",
    "        result[i] = val"
   ]
  },
  {
   "cell_type": "code",
   "execution_count": null,
   "id": "19542e1f",
   "metadata": {},
   "outputs": [],
   "source": [
    "%timeit host_polyval_CPU(result, array, coeffs)\n",
    "print('Maximum relative error compared to numpy.polyval:', np.max(np.abs(numpy_result - result)))"
   ]
  },
  {
   "cell_type": "markdown",
   "id": "47387fec",
   "metadata": {
    "tags": []
   },
   "source": [
    "### Mandelbrot Example"
   ]
  },
  {
   "cell_type": "code",
   "execution_count": null,
   "id": "2ed41ccf",
   "metadata": {
    "tags": []
   },
   "outputs": [],
   "source": [
    "import numpy as np\n",
    "from matplotlib.pyplot import imshow, show\n",
    "from timeit import default_timer as timer\n",
    "from numba import jit,cuda"
   ]
  },
  {
   "cell_type": "code",
   "execution_count": null,
   "id": "239e4f79",
   "metadata": {},
   "outputs": [],
   "source": [
    "def mandel(x, y, max_iters):\n",
    "  \n",
    "  c = complex(x, y)\n",
    "  z = 0.0j\n",
    "  for i in range(max_iters):\n",
    "    z = z*z + c\n",
    "    if (z.real*z.real + z.imag*z.imag) >= 4:\n",
    "      return i\n",
    "\n",
    "  return max_iters"
   ]
  },
  {
   "cell_type": "code",
   "execution_count": null,
   "id": "d181003c",
   "metadata": {},
   "outputs": [],
   "source": [
    "#Part1 : Make a create_fractal function\n",
    "def create_fractal(min_x, max_x, min_y, max_y, image, iters):\n",
    "  height = image.shape[0]\n",
    "  width = image.shape[1]\n",
    "\n",
    "  pixel_size_x = (max_x - min_x) / width\n",
    "  pixel_size_y = (max_y - min_y) / height\n",
    "    \n",
    "  for x in range(width):\n",
    "    real = min_x + x * pixel_size_x\n",
    "    for y in range(height):\n",
    "      imag = min_y + y * pixel_size_y\n",
    "      color = mandel(real, imag, iters)\n",
    "      image[y, x] = color\n"
   ]
  },
  {
   "cell_type": "code",
   "execution_count": null,
   "id": "1d1ff90c",
   "metadata": {},
   "outputs": [],
   "source": [
    "#Part 2: Next we create an empty array, size 1024x1024, type np.uint8. Call create_fractal with appropriate coordinates \n",
    "#to fit the whole mandelbrot set. Then show the image. Measure the execution time.\n",
    "image = np.zeros((1024, 1024), dtype = np.uint8)\n",
    "%timeit create_fractal(-2.0, 1.0, -1.0, 1.0, image, 20) \n",
    "\n",
    "imshow(image)\n",
    "show()"
   ]
  },
  {
   "cell_type": "code",
   "execution_count": null,
   "id": "309aed8a",
   "metadata": {},
   "outputs": [],
   "source": [
    "#Part 3: Modify both mandel and create_fractal function and optimize/parallelize them with jit decorator \n",
    "#to work on the CPU\n",
    "@jit\n",
    "def mandel(x, y, max_iters):\n",
    "  \n",
    "  c = complex(x, y)\n",
    "  z = 0.0j\n",
    "  for i in range(max_iters):\n",
    "    z = z*z + c\n",
    "    if (z.real*z.real + z.imag*z.imag) >= 4:\n",
    "      return i\n",
    "\n",
    "  return max_iters\n",
    "\n",
    "@jit\n",
    "def create_fractal(min_x, max_x, min_y, max_y, image, iters):\n",
    "  height = image.shape[0]\n",
    "  width = image.shape[1]\n",
    "\n",
    "  pixel_size_x = (max_x - min_x) / width\n",
    "  pixel_size_y = (max_y - min_y) / height\n",
    "    \n",
    "  for x in range(width):\n",
    "    real = min_x + x * pixel_size_x\n",
    "    for y in range(height):\n",
    "      imag = min_y + y * pixel_size_y\n",
    "      color = mandel(real, imag, iters)\n",
    "      image[y, x] = color"
   ]
  },
  {
   "cell_type": "code",
   "execution_count": null,
   "id": "ff462f91",
   "metadata": {},
   "outputs": [],
   "source": [
    "#Part 4: Run again and measure the execution time\n",
    "image = np.zeros((1024, 1024), dtype = np.uint8)\n",
    "%timeit create_fractal(-2.0, 1.0, -1.0, 1.0, image, 20) \n",
    "\n",
    "imshow(image)\n",
    "show()"
   ]
  },
  {
   "cell_type": "code",
   "execution_count": null,
   "id": "fea23f26",
   "metadata": {},
   "outputs": [],
   "source": [
    "#Part 5: Write the kernel function mandel_kernel  with numba.cuda. Also modify mandel to mandel_gpu with cuda.jit\n",
    "mandel_gpu = cuda.jit(device=True)(mandel)\n",
    "\n",
    "@cuda.jit\n",
    "def mandel_kernel(min_x, max_x, min_y, max_y, image, iters):\n",
    "  height = image.shape[0]\n",
    "  width = image.shape[1]\n",
    "\n",
    "  pixel_size_x = (max_x - min_x) / width\n",
    "  pixel_size_y = (max_y - min_y) / height\n",
    "\n",
    "  startX, startY = cuda.grid(2)\n",
    "  gridX = cuda.gridDim.x * cuda.blockDim.x;\n",
    "  gridY = cuda.gridDim.y * cuda.blockDim.y;\n",
    "\n",
    "  for x in range(startX, width, gridX):\n",
    "    real = min_x + x * pixel_size_x\n",
    "    for y in range(startY, height, gridY):\n",
    "      imag = min_y + y * pixel_size_y \n",
    "      image[y, x] = mandel_gpu(real, imag, iters)"
   ]
  },
  {
   "cell_type": "code",
   "execution_count": null,
   "id": "2f3b2a27",
   "metadata": {},
   "outputs": [],
   "source": [
    "#Part 6: Create cuda grid\n",
    "image = np.zeros((1024, 1024), dtype = np.uint8)\n",
    "blockdim = (32,8)\n",
    "griddim = (32,16)"
   ]
  },
  {
   "cell_type": "code",
   "execution_count": null,
   "id": "dbe99ca8",
   "metadata": {},
   "outputs": [],
   "source": [
    "#Part 7: Run the kernel. Also measure the execution time.\n",
    "%timeit mandel_kernel[griddim,blockdim](-2.0, 1.0, -1.0, 1.0, image, 20) "
   ]
  }
 ],
 "metadata": {
  "kernelspec": {
   "display_name": "Python 3 (ipykernel)",
   "language": "python",
   "name": "python3"
  },
  "language_info": {
   "codemirror_mode": {
    "name": "ipython",
    "version": 3
   },
   "file_extension": ".py",
   "mimetype": "text/x-python",
   "name": "python",
   "nbconvert_exporter": "python",
   "pygments_lexer": "ipython3",
   "version": "3.9.6"
  }
 },
 "nbformat": 4,
 "nbformat_minor": 5
}
