{
 "cells": [
  {
   "cell_type": "markdown",
   "id": "biblical-independence",
   "metadata": {},
   "source": [
    "# Introduction to GPU Programming with Python\n",
    "## Overview\n",
    "\n",
    "This tutorial is divided into the following sections:\n",
    "1. [Why computing on GPUs](#Why)\n",
    "2. [Understanding the GPU architecture](#CuPy)\n",
    "3. [Very short intro to CUDA: block-threading and execution models, memory, etc](#Numba)\n",
    "4. [Numba: just-in-time compiling](#Numba)\n",
    "4. [Numba: vectorization, ufuncs, parallel loops](#Numba)\n",
    "6. [Numba+CUDA: start porting to GPU;](#Numba)\n",
    "6. [Numba+CUDA: more exercises, matrix multiplication ;](#Numba)\n",
    "7. [Other options: CuPy, PyCUDA, CUDA C](#Numba)"
   ]
  },
  {
   "cell_type": "markdown",
   "id": "rotary-general",
   "metadata": {},
   "source": [
    "### How to Use Jupyter\n",
    "When a cell is in edit mode:\n",
    "\n",
    "  Shortcut  | Description\n",
    "----------- | -----------\n",
    "Shift+Enter | Run the cell, and go to the next\n",
    "Tab         | Indent code or auto-completion\n",
    "Esc         | Go to command mode\n",
    "\n",
    "When a cell is in command mode:\n",
    "\n",
    "  Shortcut   | Description\n",
    "------------ | -----------\n",
    "Shift+Enter  | Run the cell, and go to the next\n",
    "Double-click | Go to edit mode\n",
    "Enter        | Go to edit mode\n",
    "\n",
    "  Shortcut   | Description\n",
    "------------ | -----------\n",
    "A            | Insert a cell above\n",
    "B            | Insert a cell below\n",
    "C            | Copy the current cell\n",
    "V            | Paste the cell below\n",
    "D D          | Delete the current cell\n",
    "M            | Change to Markdown cell\n",
    "Y            | Change to Code cell\n",
    "\n",
    "To reset all cells:\n",
    "* Go to the top menu, and select Kernel -> Restart & Clear Output"
   ]
  },
  {
   "cell_type": "code",
   "execution_count": null,
   "id": "inner-syntax",
   "metadata": {},
   "outputs": [],
   "source": []
  }
 ],
 "metadata": {
  "kernelspec": {
   "display_name": "Python 3 (ipykernel)",
   "language": "python",
   "name": "python3"
  },
  "language_info": {
   "codemirror_mode": {
    "name": "ipython",
    "version": 3
   },
   "file_extension": ".py",
   "mimetype": "text/x-python",
   "name": "python",
   "nbconvert_exporter": "python",
   "pygments_lexer": "ipython3",
   "version": "3.7.4"
  }
 },
 "nbformat": 4,
 "nbformat_minor": 5
}
