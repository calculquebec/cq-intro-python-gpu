{
 "cells": [
  {
   "cell_type": "markdown",
   "id": "sapphire-virgin",
   "metadata": {},
   "source": [
    "# Introduction to GPU Programming with Python\n",
    "## Solutions to notebook 4"
   ]
  },
  {
   "cell_type": "markdown",
   "id": "0644c215-cf8a-41b4-a08b-d1fdd037d8d6",
   "metadata": {},
   "source": [
    "### Exercise 1\n",
    "Lets do the following exercise where each element of an array is incremented : array[i] = array[i] + 1"
   ]
  },
  {
   "cell_type": "code",
   "execution_count": null,
   "id": "0ffe8039",
   "metadata": {},
   "outputs": [],
   "source": [
    "import numpy as np\n",
    "from numba import cuda"
   ]
  },
  {
   "cell_type": "code",
   "execution_count": null,
   "id": "30e4e964",
   "metadata": {},
   "outputs": [],
   "source": [
    "@cuda.jit\n",
    "def kernel1(array):\n",
    "    pos = cuda.grid(1)\n",
    "    if pos<array.size:\n",
    "        array[pos] += 1"
   ]
  },
  {
   "cell_type": "code",
   "execution_count": null,
   "id": "0f7c0f64",
   "metadata": {},
   "outputs": [],
   "source": [
    "data=numpy.ones(12800,dtype=np.int32)\n",
    "threads=32\n",
    "blocks = (data.size + (threads - 1)) // threads\n",
    "print(blocks)"
   ]
  },
  {
   "cell_type": "code",
   "execution_count": null,
   "id": "49a0c518",
   "metadata": {},
   "outputs": [],
   "source": [
    "# Run the kernel and measure execution time:\n",
    "%timeit kernel1[blocks,threads](data)\n",
    "print(data)"
   ]
  },
  {
   "cell_type": "code",
   "execution_count": null,
   "id": "c2f4b10a",
   "metadata": {},
   "outputs": [],
   "source": [
    "# Take advatage of excplicit data management and copy an array to GPU before kernel execution. \n",
    "# Then measure the execution time again\n",
    "d_data = cuda.to_device(data)\n",
    "%timeit kernel1[blocks,threads](d_data)"
   ]
  },
  {
   "cell_type": "markdown",
   "id": "14a45c30-e253-4788-88e9-b12c49f98629",
   "metadata": {},
   "source": [
    "### Exercise 2\n",
    "Here an integer array is sent to GPU where its indices are reversed, i.e. array[0]=array[N-1], array[1]=array[N-2], etc."
   ]
  },
  {
   "cell_type": "code",
   "execution_count": null,
   "id": "painted-relevance",
   "metadata": {},
   "outputs": [],
   "source": [
    "# Import required libs\n",
    "import numpy as np\n",
    "from numba import cuda, float32"
   ]
  },
  {
   "cell_type": "code",
   "execution_count": null,
   "id": "3030599d",
   "metadata": {
    "tags": []
   },
   "outputs": [],
   "source": [
    "#Part 3: Create a CUDA kernel with @cuda.jit decorator\n",
    "# Kernel: reverse the array content using appropriate indices. \n",
    "# To do so you may need input and output indices. Implement kernel with possibility of multiple thread blocks.\n",
    "@cuda.jit\n",
    "def reverseArrayBlock(d_out,d_in):\n",
    "    ind_in = cuda.blockDim.x*cuda.blockIdx.x + cuda.threadIdx.x; ## Index of the current thread\n",
    "    ind_out = cuda.gridsize(1)-ind_in-1 ## Total number of threads - in -1\n",
    "    if ind_in<d_in.size:\n",
    "        d_out[ind_out] = d_in[ind_in]"
   ]
  },
  {
   "cell_type": "code",
   "execution_count": null,
   "id": "5f9c0391",
   "metadata": {},
   "outputs": [],
   "source": [
    "# Define CUDA grid\n",
    "dim=256*1000\n",
    "NumThreadsPerBlock=128\n",
    "NumBlocks = (dim + (NumThreadsPerBlock - 1)) // NumThreadsPerBlock\n",
    "print(NumBlocks)"
   ]
  },
  {
   "cell_type": "code",
   "execution_count": null,
   "id": "e99d18b8",
   "metadata": {
    "tags": []
   },
   "outputs": [],
   "source": [
    "#Part 1: Create arrays on CPU and GPU (if you want to)\n",
    "a = np.arange(0,dim,dtype=np.int32)\n",
    "b = np.zeros(dim,dtype=np.int32)"
   ]
  },
  {
   "cell_type": "code",
   "execution_count": null,
   "id": "905cef82",
   "metadata": {},
   "outputs": [],
   "source": [
    "#Part 2: Initialize host array\n",
    "# Already initialized"
   ]
  },
  {
   "cell_type": "code",
   "execution_count": null,
   "id": "8d5be58c",
   "metadata": {},
   "outputs": [],
   "source": [
    "#Part 4: Call the kernel function\n",
    "%timeit reverseArrayBlock[NumBlocks,NumThreadsPerBlock](b,a)"
   ]
  },
  {
   "cell_type": "code",
   "execution_count": null,
   "id": "fb579273",
   "metadata": {},
   "outputs": [],
   "source": [
    "#Part 5: Verify the result\n",
    "print(b)"
   ]
  },
  {
   "cell_type": "code",
   "execution_count": null,
   "id": "3677336f",
   "metadata": {},
   "outputs": [],
   "source": [
    "#Part 5: Take advantage of explicit data management\n",
    "d_a = cuda.to_device(a)\n",
    "d_b = cuda.device_array_like(b)\n",
    "%timeit reverseArrayBlock[NumBlocks,NumThreadsPerBlock](d_b,d_a)\n",
    "b = d_b.copy_to_host()\n",
    "print(b)"
   ]
  },
  {
   "cell_type": "markdown",
   "id": "f05c200b-8583-464f-926b-a51d1b7273a2",
   "metadata": {},
   "source": [
    "### Hands-on: Matrix multiplication on GPU (with global memory) "
   ]
  },
  {
   "cell_type": "code",
   "execution_count": null,
   "id": "6b242200",
   "metadata": {},
   "outputs": [],
   "source": [
    "def matmul(A,B,C):\n",
    "    # iterating by row of A\n",
    "    for i in range(len(A)):\n",
    "  \n",
    "        # iterating by coloum by B \n",
    "        for j in range(len(B[0])):\n",
    "  \n",
    "            # iterating by rows of B\n",
    "            for k in range(len(B)):\n",
    "                C[i][j] += A[i][k] * B[k][j]\n",
    "  "
   ]
  },
  {
   "cell_type": "code",
   "execution_count": null,
   "id": "99deb61b-65f5-43f1-89e2-a700686b8899",
   "metadata": {},
   "outputs": [],
   "source": [
    "#Part 1: Create matrices A,B,C as numpy arrays. Fill A and B with random numbers.\n",
    "A=np.random.rand(128,128)\n",
    "B=np.random.rand(128,128)\n",
    "C=np.zeros(shape=(128,128))"
   ]
  },
  {
   "cell_type": "code",
   "execution_count": null,
   "id": "a589497f-adc8-4d3a-93f7-433127907756",
   "metadata": {},
   "outputs": [],
   "source": [
    "#Part 2: Calculate number of blocks and threads\n",
    "threads=32\n",
    "blocks = (C.shape[0]+(C.shape[0]-1))//threads\n",
    "blockdim = (threads,threads)\n",
    "griddim = (blocks,blocks)\n",
    "print(blocks,threads)"
   ]
  },
  {
   "cell_type": "code",
   "execution_count": null,
   "id": "57e790b5-21db-4336-acdf-443af782d4fe",
   "metadata": {},
   "outputs": [],
   "source": [
    "#Part 3: Create a CUDA kernel with @cuda.jit decorator\n",
    "@cuda.jit\n",
    "def matmul(A,B,C):\n",
    "    i,j=cuda.grid(2)\n",
    "    if i<C.shape[0] and j<C.shape[1]:\n",
    "        tmp=0.0\n",
    "        for k in range(A.shape[1]):\n",
    "            tmp+=A[i,k]*B[k,j]\n",
    "        C[i,j]=tmp"
   ]
  },
  {
   "cell_type": "code",
   "execution_count": null,
   "id": "9570e761-e86f-4fba-bac1-41ca39fc6a66",
   "metadata": {},
   "outputs": [],
   "source": [
    "#Part 4: Call the kernel function and time it to get the execution time\n",
    "%timeit matmul[griddim,blockdim](A,B,C)"
   ]
  },
  {
   "cell_type": "code",
   "execution_count": null,
   "id": "649ef916-da94-4e80-ade8-2bd5592e14cd",
   "metadata": {},
   "outputs": [],
   "source": [
    "#Part 5: Create A,B,C manually on the GPU and copy data to the GPU arrays\n",
    "d_A=cuda.to_device(A)\n",
    "d_B=cuda.to_device(B)\n",
    "d_C=cuda.to_device(C)"
   ]
  },
  {
   "cell_type": "code",
   "execution_count": null,
   "id": "d2eccaac-6763-4c1a-96f6-24aac6f4a6a5",
   "metadata": {},
   "outputs": [],
   "source": [
    "#Part 6: Call the kernel function and time it to get the execution time. Compare the execution times.\n",
    "%timeit matmul[blocks,threads](d_A,d_B,d_C)"
   ]
  },
  {
   "cell_type": "markdown",
   "id": "c0093c8e-6583-48a6-b5ef-8ee4fd5a106e",
   "metadata": {},
   "source": [
    "### Exercise 3"
   ]
  },
  {
   "cell_type": "markdown",
   "id": "3b968561-d26a-4592-81b0-4c7c815aeb61",
   "metadata": {},
   "source": [
    "Here we re-use the code from Ex.2 and add shared memory into play"
   ]
  },
  {
   "cell_type": "code",
   "execution_count": null,
   "id": "9f91c746-ae84-41ea-83ad-f06dbd6545bf",
   "metadata": {},
   "outputs": [],
   "source": [
    "# Take this code and re-write it in the next cell by using a shared memory \n",
    "@cuda.jit\n",
    "def reverseArrayBlock(d_out,d_in):\n",
    "    ind_in = cuda.blockDim.x*cuda.blockIdx.x + cuda.threadIdx.x; ## Index of the current thread\n",
    "    ind_out = cuda.gridsize(1)-ind_in-1 ## Total number of threads - in -1\n",
    "    if ind_in<d_in.size:\n",
    "        d_out[ind_out] = d_in[ind_in]"
   ]
  },
  {
   "cell_type": "code",
   "execution_count": null,
   "id": "f84db54f-76c5-482a-8c9d-53fbb07cf2c2",
   "metadata": {},
   "outputs": [],
   "source": [
    "# Part 2: Here is the code with shared memory\n",
    "@cuda.jit\n",
    "def reverseArrayBlock_shared(d_out,d_in):\n",
    "    # Declare/allocate array s in shared memory\n",
    "    # Static shared memory declaration\n",
    "    # s = cuda.shared.array(2000, dtype=int32) \n",
    "    # Dynamic shared memory declaration\n",
    "    s = cuda.shared.array(0, dtype=int32)\n",
    "    # Create input index\n",
    "    ind_in = cuda.blockDim.x*cuda.blockIdx.x + cuda.threadIdx.x; ## Index of the current thread\n",
    "    # Populate array s from arrat d_in\n",
    "    s[cuda.blockDim.x - cuda.threadIdx.x - 1] = d_in[ind_in]\n",
    "    # Synchronize threads in each block\n",
    "    cuda.syncthreads()\n",
    "    # Create output index\n",
    "    ind_out = cuda.blockDim.x*(cuda.gridDim.x - 1 - cuda.blockIdx.x) + cuda.threadIdx.x\n",
    "    if ind_in<d_in.size:\n",
    "        # Populate output array d_out from shared array s\n",
    "        d_out[ind_out] = s[cuda.threadIdx.x]"
   ]
  },
  {
   "cell_type": "code",
   "execution_count": null,
   "id": "c3afbc0b-2678-430d-a489-f1d259157726",
   "metadata": {},
   "outputs": [],
   "source": [
    "dim=256*1000\n",
    "NumThreadsPerBlock=128\n",
    "NumBlocks = (dim + (NumThreadsPerBlock - 1)) // NumThreadsPerBlock"
   ]
  },
  {
   "cell_type": "code",
   "execution_count": null,
   "id": "0ba551a3-eb54-48ed-af5c-0e96667f071e",
   "metadata": {},
   "outputs": [],
   "source": [
    "#Part 1: Create arrays on CPU and GPU (if you want to)\n",
    "a = np.arange(0,dim,dtype=np.int32)\n",
    "b = np.zeros(dim,dtype=np.int32)\n",
    "memSize = NumThreadsPerBlock * a.dtype.itemsize\n",
    "print(memSize)"
   ]
  },
  {
   "cell_type": "code",
   "execution_count": null,
   "id": "f95a2fc1-e0b9-4bc1-8d5d-02512be342ae",
   "metadata": {},
   "outputs": [],
   "source": [
    "#Part 3: Call the kernel\n",
    "# Static shared memory call\n",
    "reverseArrayBlock_shared[NumBlocks,NumThreadsPerBlock](b,a)"
   ]
  },
  {
   "cell_type": "code",
   "execution_count": null,
   "id": "4fc68bdc-6563-4324-be0d-4cd3e97b293d",
   "metadata": {},
   "outputs": [],
   "source": [
    "#Part 4: Modify the kernel as well as the call from the host by changing static shared memory declaration to dynamic\n",
    "reverseArrayBlock_shared[NumBlocks,NumThreadsPerBlock,0,memSize](b,a)"
   ]
  },
  {
   "cell_type": "markdown",
   "id": "4ac333be-e311-4a76-9028-b82d395c2d3e",
   "metadata": {
    "tags": []
   },
   "source": [
    "### Hands-on: Matrix multiplication with shared memory"
   ]
  },
  {
   "cell_type": "markdown",
   "id": "31fbb2e6-5bee-4b11-815c-b6c69a372816",
   "metadata": {
    "tags": []
   },
   "source": [
    "![](../images/05-matmulshared.png)"
   ]
  },
  {
   "cell_type": "code",
   "execution_count": null,
   "id": "354cd352-de7f-4466-8473-fa3baefcd55b",
   "metadata": {},
   "outputs": [],
   "source": [
    "import numpy as np\n",
    "from numba import cuda, float32"
   ]
  },
  {
   "cell_type": "code",
   "execution_count": null,
   "id": "9ee7aca7",
   "metadata": {},
   "outputs": [],
   "source": [
    "#Part 3: Create a CUDA kernel with @cuda.jit decorator\n",
    "\n",
    "# Controls threads per block and shared memory usage.\n",
    "# The computation will be done on blocks of TPBxTPB elements.\n",
    "TPB = 16\n",
    "@cuda.jit\n",
    "def fast_matmul(A, B, C):\n",
    "    # Define an array in the shared memory\n",
    "    # The size and type of the arrays must be known at compile time\n",
    "    sA = cuda.shared.array(shape=(TPB, TPB), dtype=float32)\n",
    "    sB = cuda.shared.array(shape=(TPB, TPB), dtype=float32)\n",
    "    \n",
    "    # Define global and thread indices\n",
    "    x, y = cuda.grid(2)\n",
    "    tx = cuda.threadIdx.x\n",
    "    ty = cuda.threadIdx.y\n",
    "    \n",
    "    # Define number of blocks per grid\n",
    "    bpg = cuda.gridDim.x    # blocks per grid\n",
    "    \n",
    "    if x >= C.shape[0] and y >= C.shape[1]:\n",
    "        # Quit if (x, y) is outside of valid C boundary\n",
    "        return\n",
    "    \n",
    "    tmp = 0.\n",
    "    for i in range(bpg):\n",
    "        # Preload data into shared memory\n",
    "        sA[tx, ty] = A[x, ty + i * TPB]\n",
    "        sB[tx, ty] = B[tx + i * TPB, y]\n",
    "        \n",
    "        # Wait until all threads finish preloading\n",
    "        cuda.syncthreads()\n",
    "\n",
    "        # Computes partial product on the shared memory\n",
    "        for j in range(TPB):\n",
    "            tmp += sA[tx, j] * sB[j, ty]\n",
    "\n",
    "        # Wait until all threads finish computing\n",
    "        cuda.syncthreads()\n",
    "\n",
    "    # Put tmp into C matrix\n",
    "    C[x, y] = tmp"
   ]
  },
  {
   "cell_type": "code",
   "execution_count": null,
   "id": "87463663",
   "metadata": {},
   "outputs": [],
   "source": [
    "#Part 1: Create matrices A,B,C as numpy arrays (size 128x128,float32). Fill A and B with random numbers.\n",
    "N=128\n",
    "A=np.random.rand(N,N).astype(np.float32)\n",
    "B=np.random.rand(N,N).astype(np.float32)\n",
    "C=np.zeros(shape=(N,N)).astype(np.float32)"
   ]
  },
  {
   "cell_type": "code",
   "execution_count": null,
   "id": "973d2c78",
   "metadata": {},
   "outputs": [],
   "source": [
    "#Part 2: Calculate number of blocks and threads\n",
    "griddim = (N//TPB,N//TPB)\n",
    "blockdim = (TPB,TPB)"
   ]
  },
  {
   "cell_type": "code",
   "execution_count": null,
   "id": "23bbdcb9",
   "metadata": {},
   "outputs": [],
   "source": [
    "#Part 4: Call the kernel function and time it to get the execution time\n",
    "%timeit fast_matmul[griddim,blockdim](A, B, C)"
   ]
  }
 ],
 "metadata": {
  "kernelspec": {
   "display_name": "Python 3 (ipykernel)",
   "language": "python",
   "name": "python3"
  },
  "language_info": {
   "codemirror_mode": {
    "name": "ipython",
    "version": 3
   },
   "file_extension": ".py",
   "mimetype": "text/x-python",
   "name": "python",
   "nbconvert_exporter": "python",
   "pygments_lexer": "ipython3",
   "version": "3.9.6"
  }
 },
 "nbformat": 4,
 "nbformat_minor": 5
}
