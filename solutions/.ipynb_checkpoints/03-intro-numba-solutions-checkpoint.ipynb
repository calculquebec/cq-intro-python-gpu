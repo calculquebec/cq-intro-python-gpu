{
 "cells": [
  {
   "cell_type": "markdown",
   "id": "91a7fca6-827a-4529-9dba-fde8462793bc",
   "metadata": {},
   "source": [
    "# Introduction to GPU Programming with Python\n",
    "## Solutions to notebook 3\n"
   ]
  },
  {
   "cell_type": "markdown",
   "id": "5846d4ad-e6e9-404d-95e7-950727cd466b",
   "metadata": {
    "tags": []
   },
   "source": [
    "### Hands-on session: Matrix multiplication using @jit (on CPU)"
   ]
  },
  {
   "cell_type": "markdown",
   "id": "db7361dd-4a8c-4088-ac50-57c3c89aa219",
   "metadata": {},
   "source": [
    "![](../images/Matrix_multiplication_diagram_2.svg.png)"
   ]
  },
  {
   "cell_type": "markdown",
   "id": "c148f50a-a45c-44f1-b6cc-796132e23508",
   "metadata": {},
   "source": [
    "![](../images/matrix_formula.png)"
   ]
  },
  {
   "cell_type": "code",
   "execution_count": null,
   "id": "da2d67fc-fe82-4c57-bc44-1248b51ef96b",
   "metadata": {},
   "outputs": [],
   "source": [
    "import numpy as np\n",
    "from numba import njit,prange"
   ]
  },
  {
   "cell_type": "code",
   "execution_count": null,
   "id": "5130c501-53c1-4d9a-99e1-aaadbcd0f87f",
   "metadata": {
    "tags": []
   },
   "outputs": [],
   "source": [
    "# Part 0: Write a matrix multiplication code (2 external loops over i,j \n",
    "# and one internal for multiplication and reduction)\n",
    "def matmul(A,B,C):\n",
    "    # iterating by row of A\n",
    "    for i in range(len(A)):\n",
    "  \n",
    "        # iterating by coloum by B \n",
    "        for j in range(len(B[0])):\n",
    "  \n",
    "            # iterating by rows of B\n",
    "            for k in range(len(B)):\n",
    "                C[i][j] += A[i][k] * B[k][j]"
   ]
  },
  {
   "cell_type": "code",
   "execution_count": null,
   "id": "d24a5bcd-9ed0-4df5-a034-00a59d0367f3",
   "metadata": {},
   "outputs": [],
   "source": [
    "#Part 1: Create matrices A,B,C as numpy arrays (128,128). Fill A and B with random numbers.\n",
    "A=np.random.rand(128,128)\n",
    "B=np.random.rand(128,128)\n",
    "C=np.zeros(shape=(128,128))"
   ]
  },
  {
   "cell_type": "code",
   "execution_count": null,
   "id": "e646029b-79f8-4712-8022-34bd42f2a2ae",
   "metadata": {},
   "outputs": [],
   "source": [
    "%timeit matmul(A,B,C)"
   ]
  },
  {
   "cell_type": "code",
   "execution_count": null,
   "id": "d22b81a4-5a81-455d-8c54-aa001b3b0a53",
   "metadata": {},
   "outputs": [],
   "source": [
    "# Part 2: Copy the code from Part 1 and apply jit decorator to optimize it\n",
    "@jit\n",
    "def matmul(A,B,C):\n",
    "    # iterating by row of A\n",
    "    for i in range(len(A)):\n",
    "  \n",
    "        # iterating by coloum by B \n",
    "        for j in range(len(B[0])):\n",
    "  \n",
    "            # iterating by rows of B\n",
    "            for k in range(len(B)):\n",
    "                C[i][j] += A[i][k] * B[k][j]"
   ]
  },
  {
   "cell_type": "code",
   "execution_count": null,
   "id": "c8586f70-9892-48d4-8e8f-afe1f2f5da5e",
   "metadata": {},
   "outputs": [],
   "source": [
    "#Execute matmul and measure execution time\n",
    "%timeit matmul(A,B,C)"
   ]
  },
  {
   "cell_type": "code",
   "execution_count": null,
   "id": "db600f0d-df9a-4c9a-8de6-328b34e87bb0",
   "metadata": {},
   "outputs": [],
   "source": [
    "# Part 3: Copy the code from Part 2 and parallelize it \n",
    "from numba import prange\n",
    "@njit(parallel=True)\n",
    "def matmul(A,B,C):\n",
    "    # iterating by row of A\n",
    "    for i in prange(len(A)):\n",
    "  \n",
    "        # iterating by coloum by B \n",
    "        for j in prange(len(B[0])):\n",
    "  \n",
    "            # iterating by rows of B\n",
    "            for k in range(len(B)):\n",
    "                C[i][j] += A[i][k] * B[k][j]"
   ]
  },
  {
   "cell_type": "code",
   "execution_count": null,
   "id": "b906c4ac-4595-49a8-9b24-32d3e99b790b",
   "metadata": {},
   "outputs": [],
   "source": [
    "%timeit matmul(A,B,C)"
   ]
  }
 ],
 "metadata": {
  "kernelspec": {
   "display_name": "Python 3 (ipykernel)",
   "language": "python",
   "name": "python3"
  },
  "language_info": {
   "codemirror_mode": {
    "name": "ipython",
    "version": 3
   },
   "file_extension": ".py",
   "mimetype": "text/x-python",
   "name": "python",
   "nbconvert_exporter": "python",
   "pygments_lexer": "ipython3",
   "version": "3.9.6"
  }
 },
 "nbformat": 4,
 "nbformat_minor": 5
}
