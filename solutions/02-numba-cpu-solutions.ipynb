{
 "cells": [
  {
   "cell_type": "markdown",
   "id": "91a7fca6-827a-4529-9dba-fde8462793bc",
   "metadata": {},
   "source": [
    "# Introduction to GPU Programming with Python\n",
    "## Solutions to notebook 3\n"
   ]
  },
  {
   "cell_type": "markdown",
   "id": "73ac2393-8535-4eb3-93cb-fa47babc6dcd",
   "metadata": {},
   "source": [
    "### Main example: Matrix multiplication (on CPU without Numba)"
   ]
  },
  {
   "cell_type": "markdown",
   "id": "db7361dd-4a8c-4088-ac50-57c3c89aa219",
   "metadata": {},
   "source": [
    "![](../images/Matrix_multiplication_diagram_2.svg.png)"
   ]
  },
  {
   "cell_type": "markdown",
   "id": "c148f50a-a45c-44f1-b6cc-796132e23508",
   "metadata": {},
   "source": [
    "![](../images/matrix_formula.png)"
   ]
  },
  {
   "cell_type": "code",
   "execution_count": null,
   "id": "da2d67fc-fe82-4c57-bc44-1248b51ef96b",
   "metadata": {},
   "outputs": [],
   "source": [
    "import numpy as np"
   ]
  },
  {
   "cell_type": "code",
   "execution_count": null,
   "id": "5130c501-53c1-4d9a-99e1-aaadbcd0f87f",
   "metadata": {
    "tags": []
   },
   "outputs": [],
   "source": [
    "# Write a matrix multiplication code (2 external loops over i,j \n",
    "# and one internal for multiplication and reduction)\n",
    "def matmul(A,B,C):\n",
    "    # iterating by row of A\n",
    "    for i in range(len(A)):\n",
    "  \n",
    "        # iterating by coloum by B \n",
    "        for j in range(len(B[0])):\n",
    "  \n",
    "            # iterating by rows of B\n",
    "            for k in range(len(B)):\n",
    "                C[i][j] += A[i][k] * B[k][j]"
   ]
  },
  {
   "cell_type": "code",
   "execution_count": null,
   "id": "d24a5bcd-9ed0-4df5-a034-00a59d0367f3",
   "metadata": {},
   "outputs": [],
   "source": [
    "#Part 1: Create matrices A,B,C as numpy arrays (128,128). Fill A and B with random numbers.\n",
    "A=np.random.rand(128,128)\n",
    "B=np.random.rand(128,128)\n",
    "C=np.zeros(shape=(128,128))"
   ]
  },
  {
   "cell_type": "code",
   "execution_count": null,
   "id": "e646029b-79f8-4712-8022-34bd42f2a2ae",
   "metadata": {},
   "outputs": [],
   "source": [
    "%timeit matmul(A,B,C)"
   ]
  },
  {
   "cell_type": "markdown",
   "id": "d95f21c4-202e-40b7-b75c-8f9bd3010438",
   "metadata": {
    "tags": []
   },
   "source": [
    "### Main example: Matrix multiplication (on CPU with Numba, optimization only)"
   ]
  },
  {
   "cell_type": "code",
   "execution_count": null,
   "id": "670cb6fe-2f8f-486a-b246-321cb799509a",
   "metadata": {},
   "outputs": [],
   "source": [
    "from numba import jit"
   ]
  },
  {
   "cell_type": "code",
   "execution_count": null,
   "id": "d22b81a4-5a81-455d-8c54-aa001b3b0a53",
   "metadata": {},
   "outputs": [],
   "source": [
    "# Add Numba decorator here to optimize the code\n",
    "@jit(nopython=True)\n",
    "def matmul(A,B,C):\n",
    "    # iterating by row of A\n",
    "    for i in range(len(A)):\n",
    "  \n",
    "        # iterating by coloum by B \n",
    "        for j in range(len(B[0])):\n",
    "  \n",
    "            # iterating by rows of B\n",
    "            for k in range(len(B)):\n",
    "                C[i][j] += A[i][k] * B[k][j]"
   ]
  },
  {
   "cell_type": "code",
   "execution_count": null,
   "id": "c8586f70-9892-48d4-8e8f-afe1f2f5da5e",
   "metadata": {},
   "outputs": [],
   "source": [
    "#Execute matmul and measure execution time\n",
    "%timeit matmul(A,B,C)"
   ]
  },
  {
   "cell_type": "markdown",
   "id": "226f004b-4da9-4a04-83b5-c82132c2d5b6",
   "metadata": {
    "tags": []
   },
   "source": [
    "### Main example: Matrix multiplication (on CPU with Numba, optimization + parallelization)"
   ]
  },
  {
   "cell_type": "code",
   "execution_count": null,
   "id": "990d9e1d-723f-4d73-9faa-b123acfcb6d9",
   "metadata": {},
   "outputs": [],
   "source": [
    "from numba import jit, prange"
   ]
  },
  {
   "cell_type": "code",
   "execution_count": null,
   "id": "db600f0d-df9a-4c9a-8de6-328b34e87bb0",
   "metadata": {},
   "outputs": [],
   "source": [
    "# Add Numba decorator with parallel option and replace range with prange to parallelize the code\n",
    "@jit(nopython=True, parallel=True)\n",
    "def matmul(A,B,C):\n",
    "    # iterating by row of A\n",
    "    for i in prange(len(A)):\n",
    "  \n",
    "        # iterating by coloum by B \n",
    "        for j in prange(len(B[0])):\n",
    "  \n",
    "            # iterating by rows of B\n",
    "            for k in range(len(B)):\n",
    "                C[i][j] += A[i][k] * B[k][j]"
   ]
  },
  {
   "cell_type": "code",
   "execution_count": null,
   "id": "b906c4ac-4595-49a8-9b24-32d3e99b790b",
   "metadata": {},
   "outputs": [],
   "source": [
    "%timeit matmul(A,B,C)"
   ]
  },
  {
   "cell_type": "markdown",
   "id": "e5f5268a-80cc-4ab2-b31b-5b22b11e1163",
   "metadata": {
    "tags": []
   },
   "source": [
    "### Exercise 1 : Array elements incrementation"
   ]
  },
  {
   "cell_type": "code",
   "execution_count": null,
   "id": "ea5f9699-0072-4698-b943-f886bf052b64",
   "metadata": {},
   "outputs": [],
   "source": [
    "# Import all required libs\n",
    "import numpy\n",
    "from numba import jit,prange"
   ]
  },
  {
   "cell_type": "code",
   "execution_count": null,
   "id": "705de8b2-f992-496e-aea1-9c19c957de2a",
   "metadata": {},
   "outputs": [],
   "source": [
    "# Write a CPU parallel code (with the use of @jit decorator)\n",
    "@jit(nopython=True,parallel=True)\n",
    "def incrementation(array):\n",
    "    for i in prange(array.size):\n",
    "        array[i] += 1"
   ]
  },
  {
   "cell_type": "code",
   "execution_count": null,
   "id": "053bc8ce-e75b-49a4-bb58-6ba65f799487",
   "metadata": {},
   "outputs": [],
   "source": [
    "# Define CUDA grid: provide with number of blocks and threads per block\n",
    "data=numpy.ones(12800)\n",
    "%timeit incrementation(data)\n"
   ]
  }
 ],
 "metadata": {
  "kernelspec": {
   "display_name": "Python 3 (ipykernel)",
   "language": "python",
   "name": "python3"
  },
  "language_info": {
   "codemirror_mode": {
    "name": "ipython",
    "version": 3
   },
   "file_extension": ".py",
   "mimetype": "text/x-python",
   "name": "python",
   "nbconvert_exporter": "python",
   "pygments_lexer": "ipython3",
   "version": "3.9.6"
  }
 },
 "nbformat": 4,
 "nbformat_minor": 5
}
