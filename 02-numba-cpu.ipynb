{
 "cells": [
  {
   "cell_type": "markdown",
   "id": "turkish-funds",
   "metadata": {},
   "source": [
    "# Introduction to GPU Programming with Python\n",
    "## Numba on CPU: just-in-time library\n",
    "Questions\n",
    "* What is the main principle behind Numba just-in-time compiling ?\n",
    "* How to speed up your code with @jit decorator ?\n",
    "\n",
    "Objectives\n",
    "* Install and import Numba \n",
    "* Write a code for matrix multiplication on CPU without Numba\n",
    "* Apply Numba decorator to speed up matrix multiplication\n",
    "* Parallelize the code across multiple CPU threads"
   ]
  },
  {
   "cell_type": "markdown",
   "id": "955c42bf-21ab-4855-9dd6-9019eca292f4",
   "metadata": {},
   "source": [
    "### A bit of hardware info\n",
    "The cluter we are using today is a virtual cluster build with the use of Magic Castle on [Arbutus cloud](https://docs.alliancecan.ca/wiki/Cloud_resources#Arbutus_cloud). It consists of 30 nodes, each node has the following:\n",
    "* RAM: 22GB\n",
    "* VCPUs: 4 VCPU\n",
    "* VGPUs: 1\n",
    "* Disk: 80GB\n",
    "\n",
    "#### How to check number of cores available in Python ?"
   ]
  },
  {
   "cell_type": "code",
   "execution_count": null,
   "id": "76ae28f1-87c8-4830-9278-4f71dca0ebfd",
   "metadata": {},
   "outputs": [],
   "source": [
    "import multiprocessing\n",
    "multiprocessing.cpu_count()"
   ]
  },
  {
   "cell_type": "markdown",
   "id": "52380784-9c98-41be-91ec-ad2ecf283f02",
   "metadata": {},
   "source": [
    "### Main example: Matrix multiplication (on CPU without Numba)\n",
    "![](images/matrix_formula.png)"
   ]
  },
  {
   "cell_type": "code",
   "execution_count": null,
   "id": "22fa4ee0-cdda-4b80-bef2-0672a5d43c6c",
   "metadata": {},
   "outputs": [],
   "source": [
    "import numpy as np"
   ]
  },
  {
   "cell_type": "code",
   "execution_count": null,
   "id": "5130c501-53c1-4d9a-99e1-aaadbcd0f87f",
   "metadata": {
    "tags": []
   },
   "outputs": [],
   "source": [
    "# Write a matrix multiplication code (2 external loops over i,j \n",
    "# and one internal for multiplication and reduction)\n",
    "def matmul(A,B,C):\n",
    "    # iterating by row of A\n",
    "    .....\n",
    "  \n",
    "        # iterating by column of B \n",
    "        .....\n",
    "  \n",
    "            # iterating by rows of B\n",
    "            ....\n",
    "                C[i][j] += A[i][k] * B[k][j]"
   ]
  },
  {
   "cell_type": "code",
   "execution_count": null,
   "id": "d24a5bcd-9ed0-4df5-a034-00a59d0367f3",
   "metadata": {},
   "outputs": [],
   "source": [
    "#Create matrices A,B,C as numpy arrays (128,128). Fill A and B with random numbers.\n",
    "A = \n",
    "B =\n",
    "C = "
   ]
  },
  {
   "cell_type": "code",
   "execution_count": null,
   "id": "e646029b-79f8-4712-8022-34bd42f2a2ae",
   "metadata": {},
   "outputs": [],
   "source": [
    "# Excute matmul without optimization for reference\n",
    "%timeit matmul(A,B,C)"
   ]
  },
  {
   "cell_type": "markdown",
   "id": "ffa29dbb-4e6d-45ec-a3a3-03a0936deace",
   "metadata": {},
   "source": [
    "Let us see if we can speed up the calculation by using Numba."
   ]
  },
  {
   "cell_type": "markdown",
   "id": "880ce658-08b7-4e6d-8dde-384ec9b1f1d9",
   "metadata": {},
   "source": [
    "### What is Numba ? \n",
    "Numba is a library that compiles Python code at runtime to native machine instructions\n",
    "Numba is an on-the-fly compiler of specialized types, functions for CPU or GPU.\n",
    "Important: you don't need to dramatically change you Python code"
   ]
  },
  {
   "cell_type": "markdown",
   "id": "5960a738-a284-467f-97ca-26d4258d17c4",
   "metadata": {},
   "source": [
    "### Installing and importing Numba\n",
    "Numba is already installed for us, so we don't have to do it. But it can be done as follows:"
   ]
  },
  {
   "cell_type": "code",
   "execution_count": null,
   "id": "09b4d382-6e7f-41fb-8ec2-668984d5df48",
   "metadata": {},
   "outputs": [],
   "source": [
    "!pip install numba"
   ]
  },
  {
   "cell_type": "code",
   "execution_count": null,
   "id": "5a654e28-e1ad-4ea3-9593-a501d043c42e",
   "metadata": {},
   "outputs": [],
   "source": [
    "from numba import jit"
   ]
  },
  {
   "cell_type": "markdown",
   "id": "6e6cfd87-a4ec-4887-9ced-27fa6904f2fe",
   "metadata": {},
   "source": [
    "### Getting started with Numba: @jit decorator\n",
    "Numba's central feature is a numba.jit decorator which modifies functions in a particular way. You can think of them as functions that take a function as input and produce a function as output:"
   ]
  },
  {
   "cell_type": "code",
   "execution_count": null,
   "id": "379a7469-fec9-4283-a3f0-5f4ee6e232f8",
   "metadata": {},
   "outputs": [],
   "source": [
    "@jit(nopython=True)\n",
    "def function():\n",
    "#    some code here \n"
   ]
  },
  {
   "cell_type": "markdown",
   "id": "16eb427c-5345-4385-8c68-4a4ad2db5ee6",
   "metadata": {},
   "source": [
    "or can be written like this:"
   ]
  },
  {
   "cell_type": "code",
   "execution_count": null,
   "id": "5743a3b3-f373-4868-bd2a-b9e83961dbc2",
   "metadata": {},
   "outputs": [],
   "source": [
    "def function():\n",
    "    # some code here \n",
    "jitted_function = jit(nopython=True)(function)"
   ]
  },
  {
   "cell_type": "markdown",
   "id": "10be4db0-6ea4-4468-be43-69a3b2da9396",
   "metadata": {},
   "source": [
    "Here you don't modify the original function.\n",
    "\n",
    "Now let us modify the matrix multiplication example by applying Numba @jit decorator:"
   ]
  },
  {
   "cell_type": "markdown",
   "id": "6d13206f-2212-4478-ab1a-201e8cc48cea",
   "metadata": {
    "tags": []
   },
   "source": [
    "### Main example: Matrix multiplication (on CPU with Numba, optimization only)"
   ]
  },
  {
   "cell_type": "code",
   "execution_count": null,
   "id": "1ecdba0c-34e9-4903-8a56-e00c577d9552",
   "metadata": {},
   "outputs": [],
   "source": [
    "# Add Numba decorator here to optimize the code\n",
    "def matmul(A,B,C):\n",
    "    # iterating by row of A\n",
    "    for i in range(len(A)):\n",
    "  \n",
    "        # iterating by coloum by B \n",
    "        for j in range(len(B[0])):\n",
    "  \n",
    "            # iterating by rows of B\n",
    "            for k in range(len(B)):\n",
    "                C[i][j] += A[i][k] * B[k][j]"
   ]
  },
  {
   "cell_type": "code",
   "execution_count": null,
   "id": "1b9f706c-a22d-436d-9422-7c63d08b10af",
   "metadata": {},
   "outputs": [],
   "source": [
    "A=np.random.rand(128,128).astype(np.float32)\n",
    "B=np.random.rand(128,128).astype(np.float32)\n",
    "C=np.zeros(shape=(128,128)).astype(np.float32)"
   ]
  },
  {
   "cell_type": "code",
   "execution_count": null,
   "id": "33905406-e935-418b-a69d-6d6521f6f9bf",
   "metadata": {},
   "outputs": [],
   "source": [
    "%timeit matmul(A,B,C)"
   ]
  },
  {
   "cell_type": "markdown",
   "id": "742c1131-7926-4c48-9222-d7f1c27e096e",
   "metadata": {},
   "source": [
    "It's faster than the non-optimized (non-jitted) code but still slow because it's running on only a single CPU core. Can we make it run on multiple cores ? Or in other words, can we parallelize the code ? "
   ]
  },
  {
   "cell_type": "markdown",
   "id": "d54c326d-e7e1-4cd1-b017-a0dee7378393",
   "metadata": {},
   "source": [
    "### What is parallelization ? \n",
    "Serial computing\n",
    "* A problem is broken into a discrete series of instructions\n",
    "* Instructions are executed sequentially one after another\n",
    "* Executed on a single processor\n",
    "* Only one instruction may execute at any moment in time\n",
    "\n",
    "![](images/serialProblem.gif)\n",
    "\n",
    "Parallel computing\n",
    "* A problem is broken into discrete parts that can be solved concurrently\n",
    "* Each part is further broken down to a series of instructions\n",
    "* Instructions from each part execute simultaneously on different processors\n",
    "* An overall control/coordination mechanism is employed\n",
    "![](images/parallelProblem.gif)"
   ]
  },
  {
   "cell_type": "markdown",
   "id": "17894e38-820e-4f64-a520-3902c9823a5c",
   "metadata": {},
   "source": [
    "### Numba automatic parallelization"
   ]
  },
  {
   "cell_type": "markdown",
   "id": "63c3bfd7-fbb2-4dc2-8211-4d10e1eb807c",
   "metadata": {},
   "source": [
    "Numba allows for multi-threaded calculation. In order to parallelize the code one needs to add another option to decorator: @jit(nopython=True,parallel=True)"
   ]
  },
  {
   "cell_type": "markdown",
   "id": "dc05eeca-ba50-4d31-b45c-e2b5507c1c44",
   "metadata": {
    "tags": []
   },
   "source": [
    "### Main example: Matrix multiplication (on CPU with Numba, optimization + parallelization)"
   ]
  },
  {
   "cell_type": "code",
   "execution_count": null,
   "id": "35a3a1c2-2a98-4c7a-b602-10799b3bb77b",
   "metadata": {},
   "outputs": [],
   "source": [
    "# Add Numba decorator with parallel option to parallelize the code\n",
    "def matmul(A,B,C):\n",
    "    # iterating by row of A\n",
    "    for i in range(len(A)):\n",
    "  \n",
    "        # iterating by coloum by B \n",
    "        for j in range(len(B[0])):\n",
    "  \n",
    "            # iterating by rows of B\n",
    "            for k in range(len(B)):\n",
    "                C[i][j] += A[i][k] * B[k][j]"
   ]
  },
  {
   "cell_type": "code",
   "execution_count": null,
   "id": "10bd81a8-49d1-4b01-8e22-69915db5027c",
   "metadata": {},
   "outputs": [],
   "source": [
    "A=np.random.rand(128,128).astype(np.float32)\n",
    "B=np.random.rand(128,128).astype(np.float32)\n",
    "C=np.zeros(shape=(128,128)).astype(np.float32)"
   ]
  },
  {
   "cell_type": "code",
   "execution_count": null,
   "id": "c8f6409f-7357-45d5-b4dc-878988f59e6d",
   "metadata": {},
   "outputs": [],
   "source": [
    "%timeit matmul(A,B,C)"
   ]
  },
  {
   "cell_type": "markdown",
   "id": "7356d821-e442-4196-80c5-0155d53fe0eb",
   "metadata": {},
   "source": [
    "Numba is confused: it does not know which part of the code it should parallelize. We should help Numba."
   ]
  },
  {
   "cell_type": "markdown",
   "id": "3bca2f45-9e54-44b1-b337-6e0e070bbd92",
   "metadata": {},
   "source": [
    "### Numba explicit parallelization with prange"
   ]
  },
  {
   "cell_type": "markdown",
   "id": "99edd77a-6a3d-4b1c-aa2b-31207e8c0ef2",
   "metadata": {},
   "source": [
    "One can use Numba’s prange instead of range to specify which loop can be parallelized. Simply replace range by prange in the loop. "
   ]
  },
  {
   "cell_type": "code",
   "execution_count": null,
   "id": "9650dfcd-7d60-4273-a863-80f92967e900",
   "metadata": {},
   "outputs": [],
   "source": [
    "# Add Numba decorator with parallel option and replace range with prange to parallelize the code\n",
    "def matmul(A,B,C):\n",
    "    # iterating by row of A\n",
    "    for i in range(len(A)):\n",
    "  \n",
    "        # iterating by coloum by B \n",
    "        for j in range(len(B[0])):\n",
    "  \n",
    "            # iterating by rows of B\n",
    "            for k in range(len(B)):\n",
    "                C[i][j] += A[i][k] * B[k][j]"
   ]
  },
  {
   "cell_type": "code",
   "execution_count": null,
   "id": "7c2f1576-3f6c-4fbe-97d7-2f3f739c20ea",
   "metadata": {},
   "outputs": [],
   "source": [
    "A=np.random.rand(128,128).astype(np.float32)\n",
    "B=np.random.rand(128,128).astype(np.float32)\n",
    "C=np.zeros(shape=(128,128)).astype(np.float32)"
   ]
  },
  {
   "cell_type": "code",
   "execution_count": null,
   "id": "496fbafa-8395-4dea-952e-b2d7557d88e2",
   "metadata": {},
   "outputs": [],
   "source": [
    "%timeit matmul(A,B,C)"
   ]
  },
  {
   "cell_type": "markdown",
   "id": "f9e5a2a8-3ec0-4c48-b565-1c029500ee91",
   "metadata": {
    "tags": []
   },
   "source": [
    "### Exercise: Incrementation of array elements\n",
    "Here each element of an array is incremented by 1. This should be done in parallel on CPU using jit decorator. Hint: replace range with prange in the loop (don't forget to import prange)."
   ]
  },
  {
   "cell_type": "code",
   "execution_count": null,
   "id": "through-mouse",
   "metadata": {},
   "outputs": [],
   "source": [
    "# Import all required libs\n",
    "import numpy\n",
    "from numba import ..."
   ]
  },
  {
   "cell_type": "code",
   "execution_count": null,
   "id": "transsexual-emergency",
   "metadata": {},
   "outputs": [],
   "source": [
    "# Write a CPU parallel code (with the use of @jit decorator and prange)\n",
    "def incrementation(array):\n",
    "    for i in range(array.size):\n",
    "        array[i] += 1"
   ]
  },
  {
   "cell_type": "code",
   "execution_count": null,
   "id": "colored-consultancy",
   "metadata": {},
   "outputs": [],
   "source": [
    "# Call the function and measure the execution time. Compare the results.\n",
    "data=numpy.ones(12800)\n",
    "%timeit incrementation(data)"
   ]
  },
  {
   "cell_type": "markdown",
   "id": "a16ca39e-47cd-4d57-bf36-a8a40fe40615",
   "metadata": {},
   "source": [
    "## Key points\n",
    "* **Numba decorator** \n",
    "    * many available @jit,@njit, etc\n",
    "    * several decorators can be applied at the same time (in nested fashion)\n",
    "* **nopython vs object compilation mode**\n",
    "    * nopython mode : converts python objects into fast LLVM machine code\n",
    "    * object node: leaves python objects but adds extra overhead\n",
    "* **Numba parallelization**\n",
    "    * Implicit/automatic with @jit(parallel=True)\n",
    "    * Explicit/manual with @jit(parallel=True) and prange "
   ]
  }
 ],
 "metadata": {
  "kernelspec": {
   "display_name": "Python 3 (ipykernel)",
   "language": "python",
   "name": "python3"
  },
  "language_info": {
   "codemirror_mode": {
    "name": "ipython",
    "version": 3
   },
   "file_extension": ".py",
   "mimetype": "text/x-python",
   "name": "python",
   "nbconvert_exporter": "python",
   "pygments_lexer": "ipython3",
   "version": "3.9.6"
  }
 },
 "nbformat": 4,
 "nbformat_minor": 5
}
