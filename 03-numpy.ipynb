{
 "cells": [
  {
   "cell_type": "markdown",
   "id": "square-swedish",
   "metadata": {},
   "source": [
    "# Introduction to GPU Programming with Python\n",
    "## Short intro to NumPy library\n",
    "Questions\n",
    "* Why do I need NumPy for GPU programming with Numba\n",
    "* How can I use NumPy arrays in Numba\n",
    "* How to import a NumPy  and use the things it contains.\n",
    "* How to perform operations on arrays of data\n",
    "* What is ufunc\n",
    "\n"
   ]
  },
  {
   "cell_type": "markdown",
   "id": "minor-blackberry",
   "metadata": {},
   "source": [
    "# NumPy\n",
    "NumPy is a library very popular in Python community and particularly useful for numerical analysis. It contains the following:\n",
    "- a powerful N-dimension array\n",
    "- sophisticated functions\n",
    "- integration of C/C ++ and Fortran\n",
    "- linear algebra functions, Fourier transforms and more, optimized and written in C."
   ]
  },
  {
   "cell_type": "code",
   "execution_count": null,
   "id": "specific-covering",
   "metadata": {},
   "outputs": [],
   "source": [
    "import numpy as np"
   ]
  },
  {
   "cell_type": "markdown",
   "id": "million-reservoir",
   "metadata": {},
   "source": [
    "## ndarray\n",
    "The ndarray is a homogeneous N-dimensional array.\n",
    "\n",
    "This type of array has several attributes, here are some of them:\n",
    "\n",
    "    data: a pointer to the values ​​of the array\n",
    "    dtype: the type of each element. (ex. float32, int32)\n",
    "    shape: the dimensions of each array, for example:\n",
    "    \n",
    "    1D = (4,)\n",
    "    2D = (2,4)\n",
    "    3D = (2,3,4)\n",
    "For example, we can create an array of zeros:"
   ]
  },
  {
   "cell_type": "code",
   "execution_count": null,
   "id": "smart-haven",
   "metadata": {},
   "outputs": [],
   "source": [
    "arr = np.zeros(shape=(2,4), dtype=np.int8)\n",
    "\n",
    "print(type(arr))\n",
    "print(repr(arr))\n",
    "print(arr.dtype)\n",
    "print(arr.shape)"
   ]
  },
  {
   "cell_type": "markdown",
   "id": "rising-bermuda",
   "metadata": {},
   "source": [
    "Like lists in Python, slicing ndarray arrays creates a view of the ndarray. On the other hand, if we modify an element of this view, the original table is also modified."
   ]
  },
  {
   "cell_type": "code",
   "execution_count": null,
   "id": "tropical-conference",
   "metadata": {},
   "outputs": [],
   "source": [
    "a = np.arange(8)\n",
    "print(a)"
   ]
  },
  {
   "cell_type": "code",
   "execution_count": null,
   "id": "frequent-garbage",
   "metadata": {},
   "outputs": [],
   "source": [
    "vue = a[::2] # par saut de 2\n",
    "vue[1] = 9999\n",
    "\n",
    "print('vue :', vue)\n",
    "print('original :', a)"
   ]
  },
  {
   "cell_type": "markdown",
   "id": "innovative-riding",
   "metadata": {},
   "source": [
    "## ufuncs\n",
    "NumPy defines universal functions (ufuncs) as a function that operates on each element of the array, or combines elements from multiple source arrays.\n",
    "\n",
    "A ufunc takes several arrays (with different dimensions) or single elements as input and returns a new array. We call the process by which the elements are produced: broadcasting.\n",
    "\n",
    "Let's take an example :"
   ]
  },
  {
   "cell_type": "code",
   "execution_count": null,
   "id": "adaptive-repository",
   "metadata": {},
   "outputs": [],
   "source": [
    "a = np.array([1,2,3,4])\n",
    "b = np.array([10, 20, 30, 40])\n",
    "\n",
    "np.add(a, b)"
   ]
  },
  {
   "cell_type": "markdown",
   "id": "desperate-oxygen",
   "metadata": {},
   "source": [
    "We can also add an integer or a decimal number:"
   ]
  },
  {
   "cell_type": "code",
   "execution_count": null,
   "id": "conscious-bible",
   "metadata": {},
   "outputs": [],
   "source": [
    "aa = np.add(a, 1)\n",
    "aaa = np.add(a, 10.0)\n",
    "\n",
    "print(aa)\n",
    "print(aaa)\n",
    "# print(aa.dtype, aaa.dtype)"
   ]
  },
  {
   "cell_type": "markdown",
   "id": "thermal-prison",
   "metadata": {},
   "source": [
    "Tables of different but compatible dimensions can be combined via broadcasting. The smaller-sized array will be replicated to be identical to the larger-sized array.\n",
    "\n",
    "If needed, you can refer to the documentation for arange and that for ndarray.reshape."
   ]
  },
  {
   "cell_type": "code",
   "execution_count": null,
   "id": "large-guess",
   "metadata": {},
   "outputs": [],
   "source": [
    "c = np.arange(4*4).reshape((4,4))\n",
    "print('c:', c)\n",
    "print('b:', b)\n",
    "np.add(b, c)"
   ]
  }
 ],
 "metadata": {
  "kernelspec": {
   "display_name": "Python 3 (ipykernel)",
   "language": "python",
   "name": "python3"
  },
  "language_info": {
   "codemirror_mode": {
    "name": "ipython",
    "version": 3
   },
   "file_extension": ".py",
   "mimetype": "text/x-python",
   "name": "python",
   "nbconvert_exporter": "python",
   "pygments_lexer": "ipython3",
   "version": "3.7.4"
  }
 },
 "nbformat": 4,
 "nbformat_minor": 5
}
