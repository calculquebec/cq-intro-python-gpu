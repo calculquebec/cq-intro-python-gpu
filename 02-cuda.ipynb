{
 "cells": [
  {
   "cell_type": "markdown",
   "id": "illegal-thumb",
   "metadata": {},
   "source": [
    "# Introduction to GPU Programming with Python\n",
    "## Short intro to CUDA\n",
    "Questions\n",
    "* What is GPU ?\n",
    "* Why use GPU computing ? \n",
    "* Why Python-scripting on GPU ?\n",
    "* CUDA block-threading model\n",
    "* CUDA memory\n",
    "* CUDA Programming Flow\n",
    "\n"
   ]
  },
  {
   "cell_type": "markdown",
   "id": "normal-cherry",
   "metadata": {},
   "source": [
    "### What is GPU\n",
    "![](images/what_is_gpu.png)"
   ]
  },
  {
   "cell_type": "markdown",
   "id": "assured-defense",
   "metadata": {},
   "source": [
    "### Why computing on GPUs\n",
    "- Better GFLOPs value\n",
    "- Modern GPUs achieve several TFLOPs\n",
    "- Hundreds of compute cores (scalar processors)\n",
    "- Very well programmable\n",
    "- Cheap\n",
    "- Can be installed in any computer\n",
    "- Widely used in many applications"
   ]
  },
  {
   "cell_type": "markdown",
   "id": "automatic-buying",
   "metadata": {},
   "source": [
    "#### Better GFLOP value\n",
    "![](images/flops-per-cycle-dp.png)"
   ]
  },
  {
   "cell_type": "markdown",
   "id": "appreciated-roads",
   "metadata": {},
   "source": [
    "#### Very well programmable\n",
    "- CUDA C\n",
    "- C++ with THRUST\n",
    "- PGI CUDA Fortran\n",
    "- PyCUDA, Numba, CuPy, Cython (Python)\n",
    "- OpenCL\n",
    "- OpenACC"
   ]
  },
  {
   "cell_type": "markdown",
   "id": "serial-jewel",
   "metadata": {},
   "source": [
    "#### Can be installed easily\n",
    "Make sure to have:\n",
    "- at least one PCIe slot\n",
    "- good power supply\n",
    "- goog cooling"
   ]
  },
  {
   "cell_type": "markdown",
   "id": "green-video",
   "metadata": {},
   "source": [
    "### Why Python-scripting on GPU ?\n",
    "**What’s good about GPUs ? :**\n",
    "- Highly parallel\n",
    "- Very architecture-sensitive\n",
    "- Built for maximum compute and memory throughput\n",
    "\n",
    "**GPUs have everything that scripting language does not**\n",
    "\n",
    "**CPU benefits:**\n",
    "- Scripting fast enough\n",
    "\n",
    "**Goal of a scripting language:**\n",
    "- Reduce required knowledge\n",
    "- Encourage experimentation\n",
    "- Eliminate sources of error\n",
    "- Encourage abstraction whenever possible\n",
    "- Value programmer time over computer time\n",
    "\n",
    "**CPU will be restricted to control tasks**\n",
    "\n"
   ]
  },
  {
   "cell_type": "markdown",
   "id": "australian-perth",
   "metadata": {},
   "source": [
    "**What is the idea ?**\n",
    "\n",
    "We let CUDA compiler build machine code for us. However, most of our Python code remains to be a Python code.\n",
    "![](images/python_gpu.png)"
   ]
  },
  {
   "cell_type": "code",
   "execution_count": null,
   "id": "settled-puppy",
   "metadata": {},
   "outputs": [],
   "source": []
  }
 ],
 "metadata": {
  "kernelspec": {
   "display_name": "Python 3",
   "language": "python",
   "name": "python3"
  },
  "language_info": {
   "codemirror_mode": {
    "name": "ipython",
    "version": 3
   },
   "file_extension": ".py",
   "mimetype": "text/x-python",
   "name": "python",
   "nbconvert_exporter": "python",
   "pygments_lexer": "ipython3",
   "version": "3.8.5"
  }
 },
 "nbformat": 4,
 "nbformat_minor": 5
}
